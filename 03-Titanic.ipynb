{
 "cells": [
  {
   "cell_type": "markdown",
   "id": "aa09863b-c959-4a71-b4fd-b1f457fb82ae",
   "metadata": {},
   "source": [
    "# **实例：泰坦尼克幸存者预测**"
   ]
  },
  {
   "cell_type": "code",
   "execution_count": 42,
   "id": "d1039b42-bc76-48f2-a2bf-38ddd5cad144",
   "metadata": {},
   "outputs": [],
   "source": [
    "import pandas as pd\n",
    "from sklearn.tree import DecisionTreeClassifier\n",
    "from sklearn.model_selection import train_test_split, cross_val_score\n",
    "import matplotlib.pyplot as plt\n",
    "from sklearn.model_selection import GridSearchCV"
   ]
  },
  {
   "cell_type": "markdown",
   "id": "ece37f36-9567-4976-aa83-0222440d0efb",
   "metadata": {},
   "source": [
    "**导入数据集，探索数据**"
   ]
  },
  {
   "cell_type": "code",
   "execution_count": 6,
   "id": "883d87a2-e42c-40c8-a06a-c18a5e977b9d",
   "metadata": {
    "tags": []
   },
   "outputs": [],
   "source": [
    "data = pd.read_csv(r'C:\\MyProgram\\pycharm\\jupyter\\datasets\\titanic\\train.csv', encoding='utf-8-sig')"
   ]
  },
  {
   "cell_type": "code",
   "execution_count": 5,
   "id": "16f79033-3c00-462d-bd7d-3fef67cd1829",
   "metadata": {},
   "outputs": [
    {
     "data": {
      "text/html": [
       "<div>\n",
       "<style scoped>\n",
       "    .dataframe tbody tr th:only-of-type {\n",
       "        vertical-align: middle;\n",
       "    }\n",
       "\n",
       "    .dataframe tbody tr th {\n",
       "        vertical-align: top;\n",
       "    }\n",
       "\n",
       "    .dataframe thead th {\n",
       "        text-align: right;\n",
       "    }\n",
       "</style>\n",
       "<table border=\"1\" class=\"dataframe\">\n",
       "  <thead>\n",
       "    <tr style=\"text-align: right;\">\n",
       "      <th></th>\n",
       "      <th>PassengerId</th>\n",
       "      <th>Survived</th>\n",
       "      <th>Pclass</th>\n",
       "      <th>Name</th>\n",
       "      <th>Sex</th>\n",
       "      <th>Age</th>\n",
       "      <th>SibSp</th>\n",
       "      <th>Parch</th>\n",
       "      <th>Ticket</th>\n",
       "      <th>Fare</th>\n",
       "      <th>Cabin</th>\n",
       "      <th>Embarked</th>\n",
       "    </tr>\n",
       "  </thead>\n",
       "  <tbody>\n",
       "    <tr>\n",
       "      <th>0</th>\n",
       "      <td>1</td>\n",
       "      <td>0</td>\n",
       "      <td>3</td>\n",
       "      <td>Braund, Mr. Owen Harris</td>\n",
       "      <td>male</td>\n",
       "      <td>22.0</td>\n",
       "      <td>1</td>\n",
       "      <td>0</td>\n",
       "      <td>A/5 21171</td>\n",
       "      <td>7.2500</td>\n",
       "      <td>NaN</td>\n",
       "      <td>S</td>\n",
       "    </tr>\n",
       "    <tr>\n",
       "      <th>1</th>\n",
       "      <td>2</td>\n",
       "      <td>1</td>\n",
       "      <td>1</td>\n",
       "      <td>Cumings, Mrs. John Bradley (Florence Briggs Th...</td>\n",
       "      <td>female</td>\n",
       "      <td>38.0</td>\n",
       "      <td>1</td>\n",
       "      <td>0</td>\n",
       "      <td>PC 17599</td>\n",
       "      <td>71.2833</td>\n",
       "      <td>C85</td>\n",
       "      <td>C</td>\n",
       "    </tr>\n",
       "    <tr>\n",
       "      <th>2</th>\n",
       "      <td>3</td>\n",
       "      <td>1</td>\n",
       "      <td>3</td>\n",
       "      <td>Heikkinen, Miss. Laina</td>\n",
       "      <td>female</td>\n",
       "      <td>26.0</td>\n",
       "      <td>0</td>\n",
       "      <td>0</td>\n",
       "      <td>STON/O2. 3101282</td>\n",
       "      <td>7.9250</td>\n",
       "      <td>NaN</td>\n",
       "      <td>S</td>\n",
       "    </tr>\n",
       "    <tr>\n",
       "      <th>3</th>\n",
       "      <td>4</td>\n",
       "      <td>1</td>\n",
       "      <td>1</td>\n",
       "      <td>Futrelle, Mrs. Jacques Heath (Lily May Peel)</td>\n",
       "      <td>female</td>\n",
       "      <td>35.0</td>\n",
       "      <td>1</td>\n",
       "      <td>0</td>\n",
       "      <td>113803</td>\n",
       "      <td>53.1000</td>\n",
       "      <td>C123</td>\n",
       "      <td>S</td>\n",
       "    </tr>\n",
       "    <tr>\n",
       "      <th>4</th>\n",
       "      <td>5</td>\n",
       "      <td>0</td>\n",
       "      <td>3</td>\n",
       "      <td>Allen, Mr. William Henry</td>\n",
       "      <td>male</td>\n",
       "      <td>35.0</td>\n",
       "      <td>0</td>\n",
       "      <td>0</td>\n",
       "      <td>373450</td>\n",
       "      <td>8.0500</td>\n",
       "      <td>NaN</td>\n",
       "      <td>S</td>\n",
       "    </tr>\n",
       "  </tbody>\n",
       "</table>\n",
       "</div>"
      ],
      "text/plain": [
       "   PassengerId  Survived  Pclass  \\\n",
       "0            1         0       3   \n",
       "1            2         1       1   \n",
       "2            3         1       3   \n",
       "3            4         1       1   \n",
       "4            5         0       3   \n",
       "\n",
       "                                                Name     Sex   Age  SibSp  \\\n",
       "0                            Braund, Mr. Owen Harris    male  22.0      1   \n",
       "1  Cumings, Mrs. John Bradley (Florence Briggs Th...  female  38.0      1   \n",
       "2                             Heikkinen, Miss. Laina  female  26.0      0   \n",
       "3       Futrelle, Mrs. Jacques Heath (Lily May Peel)  female  35.0      1   \n",
       "4                           Allen, Mr. William Henry    male  35.0      0   \n",
       "\n",
       "   Parch            Ticket     Fare Cabin Embarked  \n",
       "0      0         A/5 21171   7.2500   NaN        S  \n",
       "1      0          PC 17599  71.2833   C85        C  \n",
       "2      0  STON/O2. 3101282   7.9250   NaN        S  \n",
       "3      0            113803  53.1000  C123        S  \n",
       "4      0            373450   8.0500   NaN        S  "
      ]
     },
     "execution_count": 5,
     "metadata": {},
     "output_type": "execute_result"
    }
   ],
   "source": [
    "data.head()"
   ]
  },
  {
   "cell_type": "code",
   "execution_count": 4,
   "id": "cbcb1609-a0c7-4bad-9df5-80c7e1f0722c",
   "metadata": {},
   "outputs": [
    {
     "name": "stdout",
     "output_type": "stream",
     "text": [
      "<class 'pandas.core.frame.DataFrame'>\n",
      "RangeIndex: 891 entries, 0 to 890\n",
      "Data columns (total 12 columns):\n",
      " #   Column       Non-Null Count  Dtype  \n",
      "---  ------       --------------  -----  \n",
      " 0   PassengerId  891 non-null    int64  \n",
      " 1   Survived     891 non-null    int64  \n",
      " 2   Pclass       891 non-null    int64  \n",
      " 3   Name         891 non-null    object \n",
      " 4   Sex          891 non-null    object \n",
      " 5   Age          714 non-null    float64\n",
      " 6   SibSp        891 non-null    int64  \n",
      " 7   Parch        891 non-null    int64  \n",
      " 8   Ticket       891 non-null    object \n",
      " 9   Fare         891 non-null    float64\n",
      " 10  Cabin        204 non-null    object \n",
      " 11  Embarked     889 non-null    object \n",
      "dtypes: float64(2), int64(5), object(5)\n",
      "memory usage: 83.7+ KB\n"
     ]
    }
   ],
   "source": [
    "data.info()"
   ]
  },
  {
   "cell_type": "markdown",
   "id": "6145cca1-9c2f-4697-8601-a45d87d98606",
   "metadata": {},
   "source": [
    "* 分类器只能处理数值型，所以对于数据集中的字符型，必须经过处理\n",
    "* 缺失值也需要进行处理"
   ]
  },
  {
   "cell_type": "markdown",
   "id": "16432685-f6cd-42d4-bd65-df2b76d76fcf",
   "metadata": {},
   "source": [
    "**筛选特征**"
   ]
  },
  {
   "cell_type": "markdown",
   "id": "9be4c2b4-a923-4fd5-8531-e89ec685125c",
   "metadata": {},
   "source": [
    "* 显然乘客的姓名、票号、舱给出的是舱号(而不是几等舱，因此用处不大)对于预测来说是无用信息，可以剔除\n",
    "* 对于缺失值太多的列，也可以剔除"
   ]
  },
  {
   "cell_type": "code",
   "execution_count": 11,
   "id": "e6f62d0d-9f0a-4ced-806a-f993fe02ee4a",
   "metadata": {},
   "outputs": [],
   "source": [
    "data.drop([\"Name\", \"Ticket\", \"Cabin\"], inplace=True, axis=1)"
   ]
  },
  {
   "cell_type": "code",
   "execution_count": 12,
   "id": "0af6e0e5-a268-4e8c-8e1d-2c0d4638cc68",
   "metadata": {},
   "outputs": [
    {
     "data": {
      "text/html": [
       "<div>\n",
       "<style scoped>\n",
       "    .dataframe tbody tr th:only-of-type {\n",
       "        vertical-align: middle;\n",
       "    }\n",
       "\n",
       "    .dataframe tbody tr th {\n",
       "        vertical-align: top;\n",
       "    }\n",
       "\n",
       "    .dataframe thead th {\n",
       "        text-align: right;\n",
       "    }\n",
       "</style>\n",
       "<table border=\"1\" class=\"dataframe\">\n",
       "  <thead>\n",
       "    <tr style=\"text-align: right;\">\n",
       "      <th></th>\n",
       "      <th>PassengerId</th>\n",
       "      <th>Survived</th>\n",
       "      <th>Pclass</th>\n",
       "      <th>Sex</th>\n",
       "      <th>Age</th>\n",
       "      <th>SibSp</th>\n",
       "      <th>Parch</th>\n",
       "      <th>Fare</th>\n",
       "      <th>Embarked</th>\n",
       "    </tr>\n",
       "  </thead>\n",
       "  <tbody>\n",
       "    <tr>\n",
       "      <th>0</th>\n",
       "      <td>1</td>\n",
       "      <td>0</td>\n",
       "      <td>3</td>\n",
       "      <td>male</td>\n",
       "      <td>22.0</td>\n",
       "      <td>1</td>\n",
       "      <td>0</td>\n",
       "      <td>7.2500</td>\n",
       "      <td>S</td>\n",
       "    </tr>\n",
       "    <tr>\n",
       "      <th>1</th>\n",
       "      <td>2</td>\n",
       "      <td>1</td>\n",
       "      <td>1</td>\n",
       "      <td>female</td>\n",
       "      <td>38.0</td>\n",
       "      <td>1</td>\n",
       "      <td>0</td>\n",
       "      <td>71.2833</td>\n",
       "      <td>C</td>\n",
       "    </tr>\n",
       "    <tr>\n",
       "      <th>2</th>\n",
       "      <td>3</td>\n",
       "      <td>1</td>\n",
       "      <td>3</td>\n",
       "      <td>female</td>\n",
       "      <td>26.0</td>\n",
       "      <td>0</td>\n",
       "      <td>0</td>\n",
       "      <td>7.9250</td>\n",
       "      <td>S</td>\n",
       "    </tr>\n",
       "    <tr>\n",
       "      <th>3</th>\n",
       "      <td>4</td>\n",
       "      <td>1</td>\n",
       "      <td>1</td>\n",
       "      <td>female</td>\n",
       "      <td>35.0</td>\n",
       "      <td>1</td>\n",
       "      <td>0</td>\n",
       "      <td>53.1000</td>\n",
       "      <td>S</td>\n",
       "    </tr>\n",
       "    <tr>\n",
       "      <th>4</th>\n",
       "      <td>5</td>\n",
       "      <td>0</td>\n",
       "      <td>3</td>\n",
       "      <td>male</td>\n",
       "      <td>35.0</td>\n",
       "      <td>0</td>\n",
       "      <td>0</td>\n",
       "      <td>8.0500</td>\n",
       "      <td>S</td>\n",
       "    </tr>\n",
       "  </tbody>\n",
       "</table>\n",
       "</div>"
      ],
      "text/plain": [
       "   PassengerId  Survived  Pclass     Sex   Age  SibSp  Parch     Fare Embarked\n",
       "0            1         0       3    male  22.0      1      0   7.2500        S\n",
       "1            2         1       1  female  38.0      1      0  71.2833        C\n",
       "2            3         1       3  female  26.0      0      0   7.9250        S\n",
       "3            4         1       1  female  35.0      1      0  53.1000        S\n",
       "4            5         0       3    male  35.0      0      0   8.0500        S"
      ]
     },
     "execution_count": 12,
     "metadata": {},
     "output_type": "execute_result"
    }
   ],
   "source": [
    "data.head()"
   ]
  },
  {
   "cell_type": "markdown",
   "id": "79d6c94b-3dbe-4095-8ea0-b620d2965e88",
   "metadata": {},
   "source": [
    "**处理缺失值**"
   ]
  },
  {
   "cell_type": "code",
   "execution_count": 13,
   "id": "3c8656f9-d49d-4afa-bbb7-c5080a6edf22",
   "metadata": {},
   "outputs": [],
   "source": [
    "data['Age'] = data['Age'].fillna(data['Age'].mean())"
   ]
  },
  {
   "cell_type": "code",
   "execution_count": 14,
   "id": "f58132c4-fa42-40ae-948f-79cbd740d7b3",
   "metadata": {},
   "outputs": [
    {
     "name": "stdout",
     "output_type": "stream",
     "text": [
      "<class 'pandas.core.frame.DataFrame'>\n",
      "RangeIndex: 891 entries, 0 to 890\n",
      "Data columns (total 9 columns):\n",
      " #   Column       Non-Null Count  Dtype  \n",
      "---  ------       --------------  -----  \n",
      " 0   PassengerId  891 non-null    int64  \n",
      " 1   Survived     891 non-null    int64  \n",
      " 2   Pclass       891 non-null    int64  \n",
      " 3   Sex          891 non-null    object \n",
      " 4   Age          891 non-null    float64\n",
      " 5   SibSp        891 non-null    int64  \n",
      " 6   Parch        891 non-null    int64  \n",
      " 7   Fare         891 non-null    float64\n",
      " 8   Embarked     889 non-null    object \n",
      "dtypes: float64(2), int64(5), object(2)\n",
      "memory usage: 62.8+ KB\n"
     ]
    }
   ],
   "source": [
    "data.info()"
   ]
  },
  {
   "cell_type": "markdown",
   "id": "134312df-18af-4545-a691-c11b38e583a8",
   "metadata": {},
   "source": [
    "Embarked缺失值较少，可以直接删除"
   ]
  },
  {
   "cell_type": "code",
   "execution_count": 15,
   "id": "295cfa24-2480-4493-98fc-38db4cd755a3",
   "metadata": {},
   "outputs": [],
   "source": [
    "data = data.dropna(axis=0)"
   ]
  },
  {
   "cell_type": "markdown",
   "id": "cebf4937-3d04-4f02-9cab-0b4ca53f356c",
   "metadata": {},
   "source": [
    "**处理object类型**"
   ]
  },
  {
   "cell_type": "code",
   "execution_count": 24,
   "id": "9a10ff55-d82f-4bbe-b12a-ecdc869f8cde",
   "metadata": {},
   "outputs": [],
   "source": [
    "# 查看某列有几个取值\n",
    "labels = data['Embarked'].unique().tolist()\n",
    "data.loc[:, 'Embarked'] = data['Embarked'].apply(lambda x: labels.index(x))"
   ]
  },
  {
   "cell_type": "markdown",
   "id": "a13b70ca-f140-4c78-a34a-da3f4ab21fd0",
   "metadata": {},
   "source": [
    "* 对于字符型不包含大小含义的列可以用这种方式进行转化，但需要转化的最好控制在10个以内\n",
    "* 对于小学、初中、高中、大学这类有顺序的分类型变量，需要进一步思考"
   ]
  },
  {
   "cell_type": "code",
   "execution_count": 23,
   "id": "46e98a1a-72f9-49ba-84f7-cffd3ac0f78a",
   "metadata": {},
   "outputs": [],
   "source": [
    "data.loc[:, 'Sex'] = (data['Sex'] == 'male').astype('int')"
   ]
  },
  {
   "cell_type": "markdown",
   "id": "1215ca3c-92fc-4e27-8582-d0505b49fec8",
   "metadata": {},
   "source": [
    "**分割特征、目标值**"
   ]
  },
  {
   "cell_type": "code",
   "execution_count": 26,
   "id": "b45015b0-7a59-4c01-aa72-4eede82a794e",
   "metadata": {},
   "outputs": [
    {
     "data": {
      "text/html": [
       "<div>\n",
       "<style scoped>\n",
       "    .dataframe tbody tr th:only-of-type {\n",
       "        vertical-align: middle;\n",
       "    }\n",
       "\n",
       "    .dataframe tbody tr th {\n",
       "        vertical-align: top;\n",
       "    }\n",
       "\n",
       "    .dataframe thead th {\n",
       "        text-align: right;\n",
       "    }\n",
       "</style>\n",
       "<table border=\"1\" class=\"dataframe\">\n",
       "  <thead>\n",
       "    <tr style=\"text-align: right;\">\n",
       "      <th></th>\n",
       "      <th>PassengerId</th>\n",
       "      <th>Survived</th>\n",
       "      <th>Pclass</th>\n",
       "      <th>Sex</th>\n",
       "      <th>Age</th>\n",
       "      <th>SibSp</th>\n",
       "      <th>Parch</th>\n",
       "      <th>Fare</th>\n",
       "      <th>Embarked</th>\n",
       "    </tr>\n",
       "  </thead>\n",
       "  <tbody>\n",
       "    <tr>\n",
       "      <th>0</th>\n",
       "      <td>1</td>\n",
       "      <td>0</td>\n",
       "      <td>3</td>\n",
       "      <td>0</td>\n",
       "      <td>22.0</td>\n",
       "      <td>1</td>\n",
       "      <td>0</td>\n",
       "      <td>7.2500</td>\n",
       "      <td>0</td>\n",
       "    </tr>\n",
       "    <tr>\n",
       "      <th>1</th>\n",
       "      <td>2</td>\n",
       "      <td>1</td>\n",
       "      <td>1</td>\n",
       "      <td>0</td>\n",
       "      <td>38.0</td>\n",
       "      <td>1</td>\n",
       "      <td>0</td>\n",
       "      <td>71.2833</td>\n",
       "      <td>1</td>\n",
       "    </tr>\n",
       "    <tr>\n",
       "      <th>2</th>\n",
       "      <td>3</td>\n",
       "      <td>1</td>\n",
       "      <td>3</td>\n",
       "      <td>0</td>\n",
       "      <td>26.0</td>\n",
       "      <td>0</td>\n",
       "      <td>0</td>\n",
       "      <td>7.9250</td>\n",
       "      <td>0</td>\n",
       "    </tr>\n",
       "    <tr>\n",
       "      <th>3</th>\n",
       "      <td>4</td>\n",
       "      <td>1</td>\n",
       "      <td>1</td>\n",
       "      <td>0</td>\n",
       "      <td>35.0</td>\n",
       "      <td>1</td>\n",
       "      <td>0</td>\n",
       "      <td>53.1000</td>\n",
       "      <td>0</td>\n",
       "    </tr>\n",
       "    <tr>\n",
       "      <th>4</th>\n",
       "      <td>5</td>\n",
       "      <td>0</td>\n",
       "      <td>3</td>\n",
       "      <td>0</td>\n",
       "      <td>35.0</td>\n",
       "      <td>0</td>\n",
       "      <td>0</td>\n",
       "      <td>8.0500</td>\n",
       "      <td>0</td>\n",
       "    </tr>\n",
       "  </tbody>\n",
       "</table>\n",
       "</div>"
      ],
      "text/plain": [
       "   PassengerId  Survived  Pclass  Sex   Age  SibSp  Parch     Fare  Embarked\n",
       "0            1         0       3    0  22.0      1      0   7.2500         0\n",
       "1            2         1       1    0  38.0      1      0  71.2833         1\n",
       "2            3         1       3    0  26.0      0      0   7.9250         0\n",
       "3            4         1       1    0  35.0      1      0  53.1000         0\n",
       "4            5         0       3    0  35.0      0      0   8.0500         0"
      ]
     },
     "execution_count": 26,
     "metadata": {},
     "output_type": "execute_result"
    }
   ],
   "source": [
    "data.head()"
   ]
  },
  {
   "cell_type": "code",
   "execution_count": 27,
   "id": "257dfccd-f643-4781-b89f-d61fcf71ae37",
   "metadata": {},
   "outputs": [],
   "source": [
    "x = data.iloc[:, data.columns != 'Survived']"
   ]
  },
  {
   "cell_type": "code",
   "execution_count": 28,
   "id": "14a5f00e-5df8-4a86-878d-10aaaa2c0fee",
   "metadata": {},
   "outputs": [],
   "source": [
    "y = data.iloc[:, data.columns == 'Survived']"
   ]
  },
  {
   "cell_type": "code",
   "execution_count": 31,
   "id": "122a986e-76f9-42a2-9d78-b894f294feef",
   "metadata": {},
   "outputs": [],
   "source": [
    "x_train, x_test, y_train, y_test = train_test_split(x, y, test_size=0.3)"
   ]
  },
  {
   "cell_type": "code",
   "execution_count": 34,
   "id": "34d854f6-fc74-4727-80bb-1126cbed2d56",
   "metadata": {},
   "outputs": [
    {
     "data": {
      "text/plain": [
       "(622, 8)"
      ]
     },
     "execution_count": 34,
     "metadata": {},
     "output_type": "execute_result"
    }
   ],
   "source": [
    "x_train  # 乱序\n",
    "x_train.shape"
   ]
  },
  {
   "cell_type": "markdown",
   "id": "828045b1-18cf-4abc-b431-85d3b471eb37",
   "metadata": {},
   "source": [
    "对乱序的数据集最好排好序"
   ]
  },
  {
   "cell_type": "code",
   "execution_count": 35,
   "id": "c451ce83-0ea8-47e1-bd6a-7f78f9b85b38",
   "metadata": {},
   "outputs": [],
   "source": [
    "for i in [x_train, x_test, y_train, y_test]:\n",
    "    i.index = range(i.shape[0])"
   ]
  },
  {
   "cell_type": "code",
   "execution_count": 36,
   "id": "6bc81aba-ff64-4aa0-bd0b-c4db148ccf4f",
   "metadata": {},
   "outputs": [
    {
     "data": {
      "text/html": [
       "<div>\n",
       "<style scoped>\n",
       "    .dataframe tbody tr th:only-of-type {\n",
       "        vertical-align: middle;\n",
       "    }\n",
       "\n",
       "    .dataframe tbody tr th {\n",
       "        vertical-align: top;\n",
       "    }\n",
       "\n",
       "    .dataframe thead th {\n",
       "        text-align: right;\n",
       "    }\n",
       "</style>\n",
       "<table border=\"1\" class=\"dataframe\">\n",
       "  <thead>\n",
       "    <tr style=\"text-align: right;\">\n",
       "      <th></th>\n",
       "      <th>PassengerId</th>\n",
       "      <th>Pclass</th>\n",
       "      <th>Sex</th>\n",
       "      <th>Age</th>\n",
       "      <th>SibSp</th>\n",
       "      <th>Parch</th>\n",
       "      <th>Fare</th>\n",
       "      <th>Embarked</th>\n",
       "    </tr>\n",
       "  </thead>\n",
       "  <tbody>\n",
       "    <tr>\n",
       "      <th>0</th>\n",
       "      <td>883</td>\n",
       "      <td>3</td>\n",
       "      <td>0</td>\n",
       "      <td>22.000000</td>\n",
       "      <td>0</td>\n",
       "      <td>0</td>\n",
       "      <td>10.5167</td>\n",
       "      <td>0</td>\n",
       "    </tr>\n",
       "    <tr>\n",
       "      <th>1</th>\n",
       "      <td>643</td>\n",
       "      <td>3</td>\n",
       "      <td>0</td>\n",
       "      <td>2.000000</td>\n",
       "      <td>3</td>\n",
       "      <td>2</td>\n",
       "      <td>27.9000</td>\n",
       "      <td>0</td>\n",
       "    </tr>\n",
       "    <tr>\n",
       "      <th>2</th>\n",
       "      <td>732</td>\n",
       "      <td>3</td>\n",
       "      <td>0</td>\n",
       "      <td>11.000000</td>\n",
       "      <td>0</td>\n",
       "      <td>0</td>\n",
       "      <td>18.7875</td>\n",
       "      <td>1</td>\n",
       "    </tr>\n",
       "    <tr>\n",
       "      <th>3</th>\n",
       "      <td>29</td>\n",
       "      <td>3</td>\n",
       "      <td>0</td>\n",
       "      <td>29.699118</td>\n",
       "      <td>0</td>\n",
       "      <td>0</td>\n",
       "      <td>7.8792</td>\n",
       "      <td>2</td>\n",
       "    </tr>\n",
       "    <tr>\n",
       "      <th>4</th>\n",
       "      <td>8</td>\n",
       "      <td>3</td>\n",
       "      <td>0</td>\n",
       "      <td>2.000000</td>\n",
       "      <td>3</td>\n",
       "      <td>1</td>\n",
       "      <td>21.0750</td>\n",
       "      <td>0</td>\n",
       "    </tr>\n",
       "    <tr>\n",
       "      <th>...</th>\n",
       "      <td>...</td>\n",
       "      <td>...</td>\n",
       "      <td>...</td>\n",
       "      <td>...</td>\n",
       "      <td>...</td>\n",
       "      <td>...</td>\n",
       "      <td>...</td>\n",
       "      <td>...</td>\n",
       "    </tr>\n",
       "    <tr>\n",
       "      <th>617</th>\n",
       "      <td>167</td>\n",
       "      <td>1</td>\n",
       "      <td>0</td>\n",
       "      <td>29.699118</td>\n",
       "      <td>0</td>\n",
       "      <td>1</td>\n",
       "      <td>55.0000</td>\n",
       "      <td>0</td>\n",
       "    </tr>\n",
       "    <tr>\n",
       "      <th>618</th>\n",
       "      <td>556</td>\n",
       "      <td>1</td>\n",
       "      <td>0</td>\n",
       "      <td>62.000000</td>\n",
       "      <td>0</td>\n",
       "      <td>0</td>\n",
       "      <td>26.5500</td>\n",
       "      <td>0</td>\n",
       "    </tr>\n",
       "    <tr>\n",
       "      <th>619</th>\n",
       "      <td>61</td>\n",
       "      <td>3</td>\n",
       "      <td>0</td>\n",
       "      <td>22.000000</td>\n",
       "      <td>0</td>\n",
       "      <td>0</td>\n",
       "      <td>7.2292</td>\n",
       "      <td>1</td>\n",
       "    </tr>\n",
       "    <tr>\n",
       "      <th>620</th>\n",
       "      <td>249</td>\n",
       "      <td>1</td>\n",
       "      <td>0</td>\n",
       "      <td>37.000000</td>\n",
       "      <td>1</td>\n",
       "      <td>1</td>\n",
       "      <td>52.5542</td>\n",
       "      <td>0</td>\n",
       "    </tr>\n",
       "    <tr>\n",
       "      <th>621</th>\n",
       "      <td>529</td>\n",
       "      <td>3</td>\n",
       "      <td>0</td>\n",
       "      <td>39.000000</td>\n",
       "      <td>0</td>\n",
       "      <td>0</td>\n",
       "      <td>7.9250</td>\n",
       "      <td>0</td>\n",
       "    </tr>\n",
       "  </tbody>\n",
       "</table>\n",
       "<p>622 rows × 8 columns</p>\n",
       "</div>"
      ],
      "text/plain": [
       "     PassengerId  Pclass  Sex        Age  SibSp  Parch     Fare  Embarked\n",
       "0            883       3    0  22.000000      0      0  10.5167         0\n",
       "1            643       3    0   2.000000      3      2  27.9000         0\n",
       "2            732       3    0  11.000000      0      0  18.7875         1\n",
       "3             29       3    0  29.699118      0      0   7.8792         2\n",
       "4              8       3    0   2.000000      3      1  21.0750         0\n",
       "..           ...     ...  ...        ...    ...    ...      ...       ...\n",
       "617          167       1    0  29.699118      0      1  55.0000         0\n",
       "618          556       1    0  62.000000      0      0  26.5500         0\n",
       "619           61       3    0  22.000000      0      0   7.2292         1\n",
       "620          249       1    0  37.000000      1      1  52.5542         0\n",
       "621          529       3    0  39.000000      0      0   7.9250         0\n",
       "\n",
       "[622 rows x 8 columns]"
      ]
     },
     "execution_count": 36,
     "metadata": {},
     "output_type": "execute_result"
    }
   ],
   "source": [
    "x_train"
   ]
  },
  {
   "cell_type": "markdown",
   "id": "a633510d-e6d6-4ba3-b93d-2705d9da9fac",
   "metadata": {},
   "source": [
    "**建立模型**"
   ]
  },
  {
   "cell_type": "code",
   "execution_count": 48,
   "id": "83acdad7-9958-4e9e-a738-48e0098769b7",
   "metadata": {},
   "outputs": [],
   "source": [
    "clf = DecisionTreeClassifier(random_state=25)\n",
    "clf = clf.fit(x_train, y_train)\n",
    "score = clf.score(x_test, y_test)"
   ]
  },
  {
   "cell_type": "code",
   "execution_count": 49,
   "id": "86559ea5-51db-453a-aa35-0390e8a7e2d7",
   "metadata": {},
   "outputs": [
    {
     "data": {
      "text/plain": [
       "0.6479400749063671"
      ]
     },
     "execution_count": 49,
     "metadata": {},
     "output_type": "execute_result"
    }
   ],
   "source": [
    "score"
   ]
  },
  {
   "cell_type": "markdown",
   "id": "2ccd2dcd-f478-4b7c-bc61-8678be9e3b98",
   "metadata": {},
   "source": [
    "结果不理想，可能是因为选择的切分方式导致数据不理想，可以用交叉验证在整体数据集上检测一下模型的准确性"
   ]
  },
  {
   "cell_type": "code",
   "execution_count": 43,
   "id": "2b4e050d-3a74-414e-b6f9-c5256fa383d6",
   "metadata": {},
   "outputs": [
    {
     "data": {
      "text/plain": [
       "0.5995020429009192"
      ]
     },
     "execution_count": 43,
     "metadata": {},
     "output_type": "execute_result"
    }
   ],
   "source": [
    "clf = DecisionTreeClassifier(random_state=25)\n",
    "score = cross_val_score(clf, x, y, cv=10).mean()\n",
    "score"
   ]
  },
  {
   "cell_type": "markdown",
   "id": "375a3abc-0d97-424a-8fe9-bffd008301fa",
   "metadata": {},
   "source": [
    "结果不理想，尝试调参"
   ]
  },
  {
   "cell_type": "markdown",
   "id": "97dd069c-440a-4235-b4c1-342c8387f2a3",
   "metadata": {},
   "source": [
    "* max_depth"
   ]
  },
  {
   "cell_type": "code",
   "execution_count": 65,
   "id": "9471fec9-5a44-4942-9356-2d38d94cb1af",
   "metadata": {},
   "outputs": [
    {
     "data": {
      "image/png": "[encoded data removed]",
      "text/plain": [
       "<Figure size 432x288 with 1 Axes>"
      ]
     },
     "metadata": {
      "needs_background": "light"
     },
     "output_type": "display_data"
    }
   ],
   "source": [
    "tr = []\n",
    "te = []\n",
    "\n",
    "for i in range(10):\n",
    "    clf = DecisionTreeClassifier(random_state=25\n",
    "                                ,max_depth=i+1\n",
    "                                # ,criterion='entropy'\n",
    "                                )\n",
    "    clf = clf.fit(x_train, y_train)\n",
    "    score_tr = clf.score(x_train, y_train)\n",
    "    score_te = cross_val_score(clf, x, y, cv=10).mean() \n",
    "    \n",
    "    tr.append(score_tr)\n",
    "    te.append(score_te)\n",
    "\n",
    "# 画图\n",
    "plt.plot(range(1,11), tr, c='red', label='train')\n",
    "plt.plot(range(1,11), te, c='blue', label='test')\n",
    "for i in range(1,11):\n",
    "    plt.text(i, tr[i-1]+0.02, '%.2f'%tr[i-1])\n",
    "    plt.text(i, te[i-1]+0.02, '%.2f'%te[i-1])    \n",
    "plt.xticks(range(1,11))\n",
    "plt.legend()\n",
    "plt.show()"
   ]
  },
  {
   "cell_type": "markdown",
   "id": "8ab81b63-79f4-468e-8e90-f0e216a3476f",
   "metadata": {},
   "source": [
    "在画图前，我们可以知道。如果训练集的得分远远高出测试集得分，可以知道模型过拟合，需要进行剪枝等操作；如果训练集表现不好，测试集表现很好，那么模型应该是欠拟合的；"
   ]
  },
  {
   "cell_type": "markdown",
   "id": "dc84d630-e019-4971-8edf-37787152e1b2",
   "metadata": {},
   "source": [
    "发现在3层时，达到一个峰值，这时把criterion改为entropy尝试，果然失败了，entropy一般用于模型欠拟合时"
   ]
  },
  {
   "cell_type": "markdown",
   "id": "70fc9331-438d-4a8a-aec7-8b817c1ce961",
   "metadata": {},
   "source": [
    "接着调参,我们需要对多个参数进行调试,不可能逐个尝试,接下来尝试网格搜索"
   ]
  },
  {
   "cell_type": "markdown",
   "id": "8dcc09b6-608b-47dd-bd68-76f358404834",
   "metadata": {},
   "source": [
    "**网格搜索**"
   ]
  },
  {
   "cell_type": "markdown",
   "id": "6bde2a20-0904-4440-a99b-fcd26bdbc85a",
   "metadata": {},
   "source": [
    "网格搜索是逐个尝试取值的过程, 因此如果设置的取值范围比较大, 计算量会相当大"
   ]
  },
  {
   "cell_type": "code",
   "execution_count": 58,
   "id": "0ae2e80d-86c4-43e0-aa38-8762cb1f3edc",
   "metadata": {},
   "outputs": [],
   "source": [
    "import numpy as np\n",
    "gini_threshold = np.linspace(0, 0.5, 20)\n",
    "\n",
    "\n",
    "parameters = {'criterion': ['gini', 'entropy']\n",
    "              ,'splitter': ['best', 'random']\n",
    "              ,'max_depth': [*range(1,10)]\n",
    "              ,'min_samples_leaf': [*range(1, 50, 5)]\n",
    "              ,'min_impurity_decrease': [*np.linspace(0, 0.5, 20)]\n",
    "}\n",
    "\n",
    "clf = DecisionTreeClassifier(random_state=25)\n",
    "GS = GridSearchCV(clf, parameters, cv=10)\n",
    "GS = GS.fit(x_train, y_train)"
   ]
  },
  {
   "cell_type": "code",
   "execution_count": 59,
   "id": "d52af967-e245-4959-b7cf-9d9bf2a11632",
   "metadata": {},
   "outputs": [
    {
     "data": {
      "text/plain": [
       "{'criterion': 'gini',\n",
       " 'max_depth': 7,\n",
       " 'min_impurity_decrease': 0.0,\n",
       " 'min_samples_leaf': 1,\n",
       " 'splitter': 'random'}"
      ]
     },
     "execution_count": 59,
     "metadata": {},
     "output_type": "execute_result"
    }
   ],
   "source": [
    "GS.best_params_  # 从我们输入的参数中，返回最佳的参数组合"
   ]
  },
  {
   "cell_type": "code",
   "execution_count": 64,
   "id": "448a6a0c-9074-4256-b687-3f247d005a5d",
   "metadata": {},
   "outputs": [
    {
     "data": {
      "text/plain": [
       "0.7106246799795188"
      ]
     },
     "execution_count": 64,
     "metadata": {},
     "output_type": "execute_result"
    }
   ],
   "source": [
    "GS.best_score_  # 网格搜索后的评价标准"
   ]
  },
  {
   "cell_type": "code",
   "execution_count": null,
   "id": "5dcb9520-77c7-418a-bc46-31f8b3057e78",
   "metadata": {},
   "outputs": [],
   "source": [
    "网格搜索后得到的结果还没有调参得到的结果好，原因是因为网格搜索的参数必须全部用到，因此在网格搜索和调参之前需要明确使用哪些参数以及参数范围"
   ]
  }
 ],
 "metadata": {
  "kernelspec": {
   "display_name": "Python 3 (ipykernel)",
   "language": "python",
   "name": "python3"
  },
  "language_info": {
   "codemirror_mode": {
    "name": "ipython",
    "version": 3
   },
   "file_extension": ".py",
   "mimetype": "text/x-python",
   "name": "python",
   "nbconvert_exporter": "python",
   "pygments_lexer": "ipython3",
   "version": "3.8.8"
  }
 },
 "nbformat": 4,
 "nbformat_minor": 5
}
