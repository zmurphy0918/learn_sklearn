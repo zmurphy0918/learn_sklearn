{
 "cells": [
  {
   "cell_type": "markdown",
   "id": "d57692b1-1e71-45a5-9b59-74317a23d891",
   "metadata": {},
   "source": [
    "# 机器学习调参思想"
   ]
  },
  {
   "cell_type": "markdown",
   "id": "e540b64e-0489-435a-9dd3-8d6c7befe8f4",
   "metadata": {},
   "source": [
    "通过画学习曲线、网格搜索可以探索到调参的边缘（但可能对时间、空间的消耗很大），但在实际中，高手调参更多地还是依据依据经验，而这些经验来源于：1）非常正确的调参思路和方法；2）对模型评估指标的理解；3）对数据的感觉和经验；4）用洪荒之力去尝试"
   ]
  },
  {
   "cell_type": "markdown",
   "id": "b73d558f-d486-4b9a-a88e-f17abb697a7c",
   "metadata": {},
   "source": [
    "我们无法学到高手们的经验，但我们可以学习模型评估指标的理解和调参的思路。"
   ]
  },
  {
   "cell_type": "markdown",
   "id": "9c1f2b46-bc3e-4d91-aef1-3485a605f75b",
   "metadata": {},
   "source": [
    "正确的调参思路，第一步先找准目标：**我们要做什么？**一般而言，是要针对模型的某个评估指标进行提升(以随机森林为例，可能是score或者oob_score_)。找到目标后，我们就要考虑模型在未知数据上的准确性率受哪些因素影响？在机器学习中，我们用来衡量模型在未知数据集上的准确率的指标，叫做**泛化误差**。"
   ]
  },
  {
   "cell_type": "markdown",
   "id": "5765e12d-526a-4a67-b292-8396253eb399",
   "metadata": {},
   "source": [
    "* 泛化误差"
   ]
  },
  {
   "cell_type": "markdown",
   "id": "fc9d0f4a-3996-46a9-8d44-06058c6e1d53",
   "metadata": {},
   "source": [
    "当模型在未知数据集上表现不好时，我们说泛化误差大，模型效果不好。泛化误差收到模型结构影响，开始学习当模型结构较为简单时，模型泛化误差大，我们成为欠拟合；之后随着模型逐渐复杂，模型的泛化误差也逐渐减小，知道到达一个临界点；到达临界点之后，模型结构继续复杂下去，泛化误差继续增加，我们说这时模型过拟合。"
   ]
  },
  {
   "cell_type": "markdown",
   "id": "c7101245-463a-4329-84c8-8d4acafaf000",
   "metadata": {},
   "source": [
    "自然地我们就要考虑模型的复杂度和参数的关系。在调参前，先考虑模型处于哪一边？"
   ]
  },
  {
   "cell_type": "markdown",
   "id": "90692667-3b66-4cc5-b599-8eba11e71c4e",
   "metadata": {},
   "source": [
    "泛化误差的背后其实就是“偏差-方差困境”。"
   ]
  },
  {
   "cell_type": "code",
   "execution_count": null,
   "id": "08f3a91a-2420-4eaa-92f6-e65b010bc877",
   "metadata": {},
   "outputs": [],
   "source": []
  }
 ],
 "metadata": {
  "kernelspec": {
   "display_name": "Python 3 (ipykernel)",
   "language": "python",
   "name": "python3"
  },
  "language_info": {
   "codemirror_mode": {
    "name": "ipython",
    "version": 3
   },
   "file_extension": ".py",
   "mimetype": "text/x-python",
   "name": "python",
   "nbconvert_exporter": "python",
   "pygments_lexer": "ipython3",
   "version": "3.8.8"
  }
 },
 "nbformat": 4,
 "nbformat_minor": 5
}
