{
 "cells": [
  {
   "cell_type": "code",
   "execution_count": 1,
   "id": "a890c5a2",
   "metadata": {},
   "outputs": [],
   "source": [
    "from sklearn import tree\n",
    "from sklearn.datasets import load_wine\n",
    "from sklearn.model_selection import train_test_split"
   ]
  },
  {
   "cell_type": "markdown",
   "id": "233dde1e",
   "metadata": {},
   "source": [
    "+ **建立一棵树**"
   ]
  },
  {
   "cell_type": "markdown",
   "id": "fb6755d2",
   "metadata": {},
   "source": [
    "**1. 导入数据**"
   ]
  },
  {
   "cell_type": "code",
   "execution_count": 3,
   "id": "b9238f36",
   "metadata": {},
   "outputs": [],
   "source": [
    "wine = load_wine()"
   ]
  },
  {
   "cell_type": "markdown",
   "id": "ff769e34",
   "metadata": {},
   "source": [
    "**2. 描述数据集**"
   ]
  },
  {
   "cell_type": "code",
   "execution_count": 5,
   "id": "eb72d503",
   "metadata": {
    "collapsed": true,
    "jupyter": {
     "outputs_hidden": true
    }
   },
   "outputs": [
    {
     "data": {
      "text/plain": [
       "{'data': array([[1.423e+01, 1.710e+00, 2.430e+00, ..., 1.040e+00, 3.920e+00,\n",
       "         1.065e+03],\n",
       "        [1.320e+01, 1.780e+00, 2.140e+00, ..., 1.050e+00, 3.400e+00,\n",
       "         1.050e+03],\n",
       "        [1.316e+01, 2.360e+00, 2.670e+00, ..., 1.030e+00, 3.170e+00,\n",
       "         1.185e+03],\n",
       "        ...,\n",
       "        [1.327e+01, 4.280e+00, 2.260e+00, ..., 5.900e-01, 1.560e+00,\n",
       "         8.350e+02],\n",
       "        [1.317e+01, 2.590e+00, 2.370e+00, ..., 6.000e-01, 1.620e+00,\n",
       "         8.400e+02],\n",
       "        [1.413e+01, 4.100e+00, 2.740e+00, ..., 6.100e-01, 1.600e+00,\n",
       "         5.600e+02]]),\n",
       " 'target': array([0, 0, 0, 0, 0, 0, 0, 0, 0, 0, 0, 0, 0, 0, 0, 0, 0, 0, 0, 0, 0, 0,\n",
       "        0, 0, 0, 0, 0, 0, 0, 0, 0, 0, 0, 0, 0, 0, 0, 0, 0, 0, 0, 0, 0, 0,\n",
       "        0, 0, 0, 0, 0, 0, 0, 0, 0, 0, 0, 0, 0, 0, 0, 1, 1, 1, 1, 1, 1, 1,\n",
       "        1, 1, 1, 1, 1, 1, 1, 1, 1, 1, 1, 1, 1, 1, 1, 1, 1, 1, 1, 1, 1, 1,\n",
       "        1, 1, 1, 1, 1, 1, 1, 1, 1, 1, 1, 1, 1, 1, 1, 1, 1, 1, 1, 1, 1, 1,\n",
       "        1, 1, 1, 1, 1, 1, 1, 1, 1, 1, 1, 1, 1, 1, 1, 1, 1, 1, 1, 1, 2, 2,\n",
       "        2, 2, 2, 2, 2, 2, 2, 2, 2, 2, 2, 2, 2, 2, 2, 2, 2, 2, 2, 2, 2, 2,\n",
       "        2, 2, 2, 2, 2, 2, 2, 2, 2, 2, 2, 2, 2, 2, 2, 2, 2, 2, 2, 2, 2, 2,\n",
       "        2, 2]),\n",
       " 'frame': None,\n",
       " 'target_names': array(['class_0', 'class_1', 'class_2'], dtype='<U7'),\n",
       " 'DESCR': '.. _wine_dataset:\\n\\nWine recognition dataset\\n------------------------\\n\\n**Data Set Characteristics:**\\n\\n    :Number of Instances: 178 (50 in each of three classes)\\n    :Number of Attributes: 13 numeric, predictive attributes and the class\\n    :Attribute Information:\\n \\t\\t- Alcohol\\n \\t\\t- Malic acid\\n \\t\\t- Ash\\n\\t\\t- Alcalinity of ash  \\n \\t\\t- Magnesium\\n\\t\\t- Total phenols\\n \\t\\t- Flavanoids\\n \\t\\t- Nonflavanoid phenols\\n \\t\\t- Proanthocyanins\\n\\t\\t- Color intensity\\n \\t\\t- Hue\\n \\t\\t- OD280/OD315 of diluted wines\\n \\t\\t- Proline\\n\\n    - class:\\n            - class_0\\n            - class_1\\n            - class_2\\n\\t\\t\\n    :Summary Statistics:\\n    \\n    ============================= ==== ===== ======= =====\\n                                   Min   Max   Mean     SD\\n    ============================= ==== ===== ======= =====\\n    Alcohol:                      11.0  14.8    13.0   0.8\\n    Malic Acid:                   0.74  5.80    2.34  1.12\\n    Ash:                          1.36  3.23    2.36  0.27\\n    Alcalinity of Ash:            10.6  30.0    19.5   3.3\\n    Magnesium:                    70.0 162.0    99.7  14.3\\n    Total Phenols:                0.98  3.88    2.29  0.63\\n    Flavanoids:                   0.34  5.08    2.03  1.00\\n    Nonflavanoid Phenols:         0.13  0.66    0.36  0.12\\n    Proanthocyanins:              0.41  3.58    1.59  0.57\\n    Colour Intensity:              1.3  13.0     5.1   2.3\\n    Hue:                          0.48  1.71    0.96  0.23\\n    OD280/OD315 of diluted wines: 1.27  4.00    2.61  0.71\\n    Proline:                       278  1680     746   315\\n    ============================= ==== ===== ======= =====\\n\\n    :Missing Attribute Values: None\\n    :Class Distribution: class_0 (59), class_1 (71), class_2 (48)\\n    :Creator: R.A. Fisher\\n    :Donor: Michael Marshall (MARSHALL%PLU@io.arc.nasa.gov)\\n    :Date: July, 1988\\n\\nThis is a copy of UCI ML Wine recognition datasets.\\nhttps://archive.ics.uci.edu/ml/machine-learning-databases/wine/wine.data\\n\\nThe data is the results of a chemical analysis of wines grown in the same\\nregion in Italy by three different cultivators. There are thirteen different\\nmeasurements taken for different constituents found in the three types of\\nwine.\\n\\nOriginal Owners: \\n\\nForina, M. et al, PARVUS - \\nAn Extendible Package for Data Exploration, Classification and Correlation. \\nInstitute of Pharmaceutical and Food Analysis and Technologies,\\nVia Brigata Salerno, 16147 Genoa, Italy.\\n\\nCitation:\\n\\nLichman, M. (2013). UCI Machine Learning Repository\\n[https://archive.ics.uci.edu/ml]. Irvine, CA: University of California,\\nSchool of Information and Computer Science. \\n\\n.. topic:: References\\n\\n  (1) S. Aeberhard, D. Coomans and O. de Vel, \\n  Comparison of Classifiers in High Dimensional Settings, \\n  Tech. Rep. no. 92-02, (1992), Dept. of Computer Science and Dept. of  \\n  Mathematics and Statistics, James Cook University of North Queensland. \\n  (Also submitted to Technometrics). \\n\\n  The data was used with many others for comparing various \\n  classifiers. The classes are separable, though only RDA \\n  has achieved 100% correct classification. \\n  (RDA : 100%, QDA 99.4%, LDA 98.9%, 1NN 96.1% (z-transformed data)) \\n  (All results using the leave-one-out technique) \\n\\n  (2) S. Aeberhard, D. Coomans and O. de Vel, \\n  \"THE CLASSIFICATION PERFORMANCE OF RDA\" \\n  Tech. Rep. no. 92-01, (1992), Dept. of Computer Science and Dept. of \\n  Mathematics and Statistics, James Cook University of North Queensland. \\n  (Also submitted to Journal of Chemometrics).\\n',\n",
       " 'feature_names': ['alcohol',\n",
       "  'malic_acid',\n",
       "  'ash',\n",
       "  'alcalinity_of_ash',\n",
       "  'magnesium',\n",
       "  'total_phenols',\n",
       "  'flavanoids',\n",
       "  'nonflavanoid_phenols',\n",
       "  'proanthocyanins',\n",
       "  'color_intensity',\n",
       "  'hue',\n",
       "  'od280/od315_of_diluted_wines',\n",
       "  'proline']}"
      ]
     },
     "execution_count": 5,
     "metadata": {},
     "output_type": "execute_result"
    }
   ],
   "source": [
    "wine"
   ]
  },
  {
   "cell_type": "code",
   "execution_count": 8,
   "id": "8c8317cf",
   "metadata": {},
   "outputs": [
    {
     "data": {
      "text/plain": [
       "(178, 13)"
      ]
     },
     "execution_count": 8,
     "metadata": {},
     "output_type": "execute_result"
    }
   ],
   "source": [
    "wine.data.shape"
   ]
  },
  {
   "cell_type": "code",
   "execution_count": 7,
   "id": "2676d4ec",
   "metadata": {
    "collapsed": true,
    "jupyter": {
     "outputs_hidden": true
    }
   },
   "outputs": [
    {
     "data": {
      "text/plain": [
       "array([0, 0, 0, 0, 0, 0, 0, 0, 0, 0, 0, 0, 0, 0, 0, 0, 0, 0, 0, 0, 0, 0,\n",
       "       0, 0, 0, 0, 0, 0, 0, 0, 0, 0, 0, 0, 0, 0, 0, 0, 0, 0, 0, 0, 0, 0,\n",
       "       0, 0, 0, 0, 0, 0, 0, 0, 0, 0, 0, 0, 0, 0, 0, 1, 1, 1, 1, 1, 1, 1,\n",
       "       1, 1, 1, 1, 1, 1, 1, 1, 1, 1, 1, 1, 1, 1, 1, 1, 1, 1, 1, 1, 1, 1,\n",
       "       1, 1, 1, 1, 1, 1, 1, 1, 1, 1, 1, 1, 1, 1, 1, 1, 1, 1, 1, 1, 1, 1,\n",
       "       1, 1, 1, 1, 1, 1, 1, 1, 1, 1, 1, 1, 1, 1, 1, 1, 1, 1, 1, 1, 2, 2,\n",
       "       2, 2, 2, 2, 2, 2, 2, 2, 2, 2, 2, 2, 2, 2, 2, 2, 2, 2, 2, 2, 2, 2,\n",
       "       2, 2, 2, 2, 2, 2, 2, 2, 2, 2, 2, 2, 2, 2, 2, 2, 2, 2, 2, 2, 2, 2,\n",
       "       2, 2])"
      ]
     },
     "execution_count": 7,
     "metadata": {},
     "output_type": "execute_result"
    }
   ],
   "source": [
    "wine.target"
   ]
  },
  {
   "cell_type": "code",
   "execution_count": 10,
   "id": "68401879",
   "metadata": {
    "collapsed": true,
    "jupyter": {
     "outputs_hidden": true
    }
   },
   "outputs": [
    {
     "data": {
      "text/plain": [
       "['alcohol',\n",
       " 'malic_acid',\n",
       " 'ash',\n",
       " 'alcalinity_of_ash',\n",
       " 'magnesium',\n",
       " 'total_phenols',\n",
       " 'flavanoids',\n",
       " 'nonflavanoid_phenols',\n",
       " 'proanthocyanins',\n",
       " 'color_intensity',\n",
       " 'hue',\n",
       " 'od280/od315_of_diluted_wines',\n",
       " 'proline']"
      ]
     },
     "execution_count": 10,
     "metadata": {},
     "output_type": "execute_result"
    }
   ],
   "source": [
    "wine.feature_names"
   ]
  },
  {
   "cell_type": "code",
   "execution_count": 11,
   "id": "783db05e",
   "metadata": {},
   "outputs": [
    {
     "data": {
      "text/plain": [
       "array(['class_0', 'class_1', 'class_2'], dtype='<U7')"
      ]
     },
     "execution_count": 11,
     "metadata": {},
     "output_type": "execute_result"
    }
   ],
   "source": [
    "wine.target_names"
   ]
  },
  {
   "cell_type": "code",
   "execution_count": 9,
   "id": "6178aed1",
   "metadata": {},
   "outputs": [],
   "source": [
    "import pandas as pd"
   ]
  },
  {
   "cell_type": "code",
   "execution_count": 14,
   "id": "274d4f8d",
   "metadata": {
    "collapsed": true,
    "jupyter": {
     "outputs_hidden": true
    }
   },
   "outputs": [
    {
     "data": {
      "text/html": [
       "<div>\n",
       "<style scoped>\n",
       "    .dataframe tbody tr th:only-of-type {\n",
       "        vertical-align: middle;\n",
       "    }\n",
       "\n",
       "    .dataframe tbody tr th {\n",
       "        vertical-align: top;\n",
       "    }\n",
       "\n",
       "    .dataframe thead th {\n",
       "        text-align: right;\n",
       "    }\n",
       "</style>\n",
       "<table border=\"1\" class=\"dataframe\">\n",
       "  <thead>\n",
       "    <tr style=\"text-align: right;\">\n",
       "      <th></th>\n",
       "      <th>0</th>\n",
       "      <th>1</th>\n",
       "      <th>2</th>\n",
       "      <th>3</th>\n",
       "      <th>4</th>\n",
       "      <th>5</th>\n",
       "      <th>6</th>\n",
       "      <th>7</th>\n",
       "      <th>8</th>\n",
       "      <th>9</th>\n",
       "      <th>10</th>\n",
       "      <th>11</th>\n",
       "      <th>12</th>\n",
       "      <th>0</th>\n",
       "    </tr>\n",
       "  </thead>\n",
       "  <tbody>\n",
       "    <tr>\n",
       "      <th>0</th>\n",
       "      <td>14.23</td>\n",
       "      <td>1.71</td>\n",
       "      <td>2.43</td>\n",
       "      <td>15.6</td>\n",
       "      <td>127.0</td>\n",
       "      <td>2.80</td>\n",
       "      <td>3.06</td>\n",
       "      <td>0.28</td>\n",
       "      <td>2.29</td>\n",
       "      <td>5.64</td>\n",
       "      <td>1.04</td>\n",
       "      <td>3.92</td>\n",
       "      <td>1065.0</td>\n",
       "      <td>0</td>\n",
       "    </tr>\n",
       "    <tr>\n",
       "      <th>1</th>\n",
       "      <td>13.20</td>\n",
       "      <td>1.78</td>\n",
       "      <td>2.14</td>\n",
       "      <td>11.2</td>\n",
       "      <td>100.0</td>\n",
       "      <td>2.65</td>\n",
       "      <td>2.76</td>\n",
       "      <td>0.26</td>\n",
       "      <td>1.28</td>\n",
       "      <td>4.38</td>\n",
       "      <td>1.05</td>\n",
       "      <td>3.40</td>\n",
       "      <td>1050.0</td>\n",
       "      <td>0</td>\n",
       "    </tr>\n",
       "    <tr>\n",
       "      <th>2</th>\n",
       "      <td>13.16</td>\n",
       "      <td>2.36</td>\n",
       "      <td>2.67</td>\n",
       "      <td>18.6</td>\n",
       "      <td>101.0</td>\n",
       "      <td>2.80</td>\n",
       "      <td>3.24</td>\n",
       "      <td>0.30</td>\n",
       "      <td>2.81</td>\n",
       "      <td>5.68</td>\n",
       "      <td>1.03</td>\n",
       "      <td>3.17</td>\n",
       "      <td>1185.0</td>\n",
       "      <td>0</td>\n",
       "    </tr>\n",
       "    <tr>\n",
       "      <th>3</th>\n",
       "      <td>14.37</td>\n",
       "      <td>1.95</td>\n",
       "      <td>2.50</td>\n",
       "      <td>16.8</td>\n",
       "      <td>113.0</td>\n",
       "      <td>3.85</td>\n",
       "      <td>3.49</td>\n",
       "      <td>0.24</td>\n",
       "      <td>2.18</td>\n",
       "      <td>7.80</td>\n",
       "      <td>0.86</td>\n",
       "      <td>3.45</td>\n",
       "      <td>1480.0</td>\n",
       "      <td>0</td>\n",
       "    </tr>\n",
       "    <tr>\n",
       "      <th>4</th>\n",
       "      <td>13.24</td>\n",
       "      <td>2.59</td>\n",
       "      <td>2.87</td>\n",
       "      <td>21.0</td>\n",
       "      <td>118.0</td>\n",
       "      <td>2.80</td>\n",
       "      <td>2.69</td>\n",
       "      <td>0.39</td>\n",
       "      <td>1.82</td>\n",
       "      <td>4.32</td>\n",
       "      <td>1.04</td>\n",
       "      <td>2.93</td>\n",
       "      <td>735.0</td>\n",
       "      <td>0</td>\n",
       "    </tr>\n",
       "    <tr>\n",
       "      <th>...</th>\n",
       "      <td>...</td>\n",
       "      <td>...</td>\n",
       "      <td>...</td>\n",
       "      <td>...</td>\n",
       "      <td>...</td>\n",
       "      <td>...</td>\n",
       "      <td>...</td>\n",
       "      <td>...</td>\n",
       "      <td>...</td>\n",
       "      <td>...</td>\n",
       "      <td>...</td>\n",
       "      <td>...</td>\n",
       "      <td>...</td>\n",
       "      <td>...</td>\n",
       "    </tr>\n",
       "    <tr>\n",
       "      <th>173</th>\n",
       "      <td>13.71</td>\n",
       "      <td>5.65</td>\n",
       "      <td>2.45</td>\n",
       "      <td>20.5</td>\n",
       "      <td>95.0</td>\n",
       "      <td>1.68</td>\n",
       "      <td>0.61</td>\n",
       "      <td>0.52</td>\n",
       "      <td>1.06</td>\n",
       "      <td>7.70</td>\n",
       "      <td>0.64</td>\n",
       "      <td>1.74</td>\n",
       "      <td>740.0</td>\n",
       "      <td>2</td>\n",
       "    </tr>\n",
       "    <tr>\n",
       "      <th>174</th>\n",
       "      <td>13.40</td>\n",
       "      <td>3.91</td>\n",
       "      <td>2.48</td>\n",
       "      <td>23.0</td>\n",
       "      <td>102.0</td>\n",
       "      <td>1.80</td>\n",
       "      <td>0.75</td>\n",
       "      <td>0.43</td>\n",
       "      <td>1.41</td>\n",
       "      <td>7.30</td>\n",
       "      <td>0.70</td>\n",
       "      <td>1.56</td>\n",
       "      <td>750.0</td>\n",
       "      <td>2</td>\n",
       "    </tr>\n",
       "    <tr>\n",
       "      <th>175</th>\n",
       "      <td>13.27</td>\n",
       "      <td>4.28</td>\n",
       "      <td>2.26</td>\n",
       "      <td>20.0</td>\n",
       "      <td>120.0</td>\n",
       "      <td>1.59</td>\n",
       "      <td>0.69</td>\n",
       "      <td>0.43</td>\n",
       "      <td>1.35</td>\n",
       "      <td>10.20</td>\n",
       "      <td>0.59</td>\n",
       "      <td>1.56</td>\n",
       "      <td>835.0</td>\n",
       "      <td>2</td>\n",
       "    </tr>\n",
       "    <tr>\n",
       "      <th>176</th>\n",
       "      <td>13.17</td>\n",
       "      <td>2.59</td>\n",
       "      <td>2.37</td>\n",
       "      <td>20.0</td>\n",
       "      <td>120.0</td>\n",
       "      <td>1.65</td>\n",
       "      <td>0.68</td>\n",
       "      <td>0.53</td>\n",
       "      <td>1.46</td>\n",
       "      <td>9.30</td>\n",
       "      <td>0.60</td>\n",
       "      <td>1.62</td>\n",
       "      <td>840.0</td>\n",
       "      <td>2</td>\n",
       "    </tr>\n",
       "    <tr>\n",
       "      <th>177</th>\n",
       "      <td>14.13</td>\n",
       "      <td>4.10</td>\n",
       "      <td>2.74</td>\n",
       "      <td>24.5</td>\n",
       "      <td>96.0</td>\n",
       "      <td>2.05</td>\n",
       "      <td>0.76</td>\n",
       "      <td>0.56</td>\n",
       "      <td>1.35</td>\n",
       "      <td>9.20</td>\n",
       "      <td>0.61</td>\n",
       "      <td>1.60</td>\n",
       "      <td>560.0</td>\n",
       "      <td>2</td>\n",
       "    </tr>\n",
       "  </tbody>\n",
       "</table>\n",
       "<p>178 rows × 14 columns</p>\n",
       "</div>"
      ],
      "text/plain": [
       "        0     1     2     3      4     5     6     7     8      9     10  \\\n",
       "0    14.23  1.71  2.43  15.6  127.0  2.80  3.06  0.28  2.29   5.64  1.04   \n",
       "1    13.20  1.78  2.14  11.2  100.0  2.65  2.76  0.26  1.28   4.38  1.05   \n",
       "2    13.16  2.36  2.67  18.6  101.0  2.80  3.24  0.30  2.81   5.68  1.03   \n",
       "3    14.37  1.95  2.50  16.8  113.0  3.85  3.49  0.24  2.18   7.80  0.86   \n",
       "4    13.24  2.59  2.87  21.0  118.0  2.80  2.69  0.39  1.82   4.32  1.04   \n",
       "..     ...   ...   ...   ...    ...   ...   ...   ...   ...    ...   ...   \n",
       "173  13.71  5.65  2.45  20.5   95.0  1.68  0.61  0.52  1.06   7.70  0.64   \n",
       "174  13.40  3.91  2.48  23.0  102.0  1.80  0.75  0.43  1.41   7.30  0.70   \n",
       "175  13.27  4.28  2.26  20.0  120.0  1.59  0.69  0.43  1.35  10.20  0.59   \n",
       "176  13.17  2.59  2.37  20.0  120.0  1.65  0.68  0.53  1.46   9.30  0.60   \n",
       "177  14.13  4.10  2.74  24.5   96.0  2.05  0.76  0.56  1.35   9.20  0.61   \n",
       "\n",
       "       11      12  0   \n",
       "0    3.92  1065.0   0  \n",
       "1    3.40  1050.0   0  \n",
       "2    3.17  1185.0   0  \n",
       "3    3.45  1480.0   0  \n",
       "4    2.93   735.0   0  \n",
       "..    ...     ...  ..  \n",
       "173  1.74   740.0   2  \n",
       "174  1.56   750.0   2  \n",
       "175  1.56   835.0   2  \n",
       "176  1.62   840.0   2  \n",
       "177  1.60   560.0   2  \n",
       "\n",
       "[178 rows x 14 columns]"
      ]
     },
     "execution_count": 14,
     "metadata": {},
     "output_type": "execute_result"
    }
   ],
   "source": [
    "pd.concat([pd.DataFrame(wine.data), pd.DataFrame(wine.target)], axis=1)"
   ]
  },
  {
   "cell_type": "markdown",
   "id": "0288a90c",
   "metadata": {},
   "source": [
    "**3. 划分数据集**"
   ]
  },
  {
   "cell_type": "code",
   "execution_count": 4,
   "id": "62a63b9f",
   "metadata": {},
   "outputs": [],
   "source": [
    "Xtrain, Xtest, Ytrain, Ytest = train_test_split(wine.data, wine.target, test_size=0.3)"
   ]
  },
  {
   "cell_type": "code",
   "execution_count": 4,
   "id": "cc487c85",
   "metadata": {},
   "outputs": [
    {
     "data": {
      "text/plain": [
       "(124, 13)"
      ]
     },
     "execution_count": 4,
     "metadata": {},
     "output_type": "execute_result"
    }
   ],
   "source": [
    "Xtrain.shape"
   ]
  },
  {
   "cell_type": "code",
   "execution_count": 5,
   "id": "7ce616b2",
   "metadata": {},
   "outputs": [
    {
     "data": {
      "text/plain": [
       "(54, 13)"
      ]
     },
     "execution_count": 5,
     "metadata": {},
     "output_type": "execute_result"
    }
   ],
   "source": [
    "Xtest.shape"
   ]
  },
  {
   "cell_type": "code",
   "execution_count": 19,
   "id": "26999082",
   "metadata": {
    "collapsed": true,
    "jupyter": {
     "outputs_hidden": true
    }
   },
   "outputs": [
    {
     "data": {
      "text/plain": [
       "array([2, 2, 0, 0, 1, 1, 1, 0, 1, 0, 1, 1, 2, 0, 1, 0, 1, 0, 0, 0, 2, 0,\n",
       "       0, 2, 1, 2, 0, 1, 2, 1, 0, 1, 2, 0, 0, 1, 1, 1, 1, 2, 2, 1, 1, 0,\n",
       "       0, 2, 0, 0, 0, 1, 1, 0, 1, 1, 1, 0, 1, 1, 1, 1, 1, 2, 0, 2, 2, 1,\n",
       "       0, 1, 2, 0, 2, 0, 1, 1, 1, 2, 0, 0, 1, 2, 2, 1, 2, 1, 2, 0, 2, 2,\n",
       "       0, 1, 1, 1, 1, 0, 0, 1, 2, 1, 1, 2, 1, 1, 1, 1, 0, 2, 1, 2, 0, 1,\n",
       "       2, 0, 0, 0, 2, 1, 0, 1, 2, 1, 2, 1, 2, 1])"
      ]
     },
     "execution_count": 19,
     "metadata": {},
     "output_type": "execute_result"
    }
   ],
   "source": [
    "Ytrain"
   ]
  },
  {
   "cell_type": "code",
   "execution_count": 20,
   "id": "e863ce72",
   "metadata": {
    "collapsed": true,
    "jupyter": {
     "outputs_hidden": true
    }
   },
   "outputs": [
    {
     "data": {
      "text/plain": [
       "array([2, 0, 0, 2, 2, 2, 1, 2, 0, 2, 1, 1, 2, 2, 0, 2, 0, 2, 0, 2, 0, 1,\n",
       "       2, 0, 0, 0, 1, 1, 1, 1, 0, 1, 0, 2, 1, 1, 0, 0, 0, 1, 0, 1, 0, 2,\n",
       "       2, 1, 0, 0, 2, 1, 1, 1, 0, 0])"
      ]
     },
     "execution_count": 20,
     "metadata": {},
     "output_type": "execute_result"
    }
   ],
   "source": [
    "Ytest"
   ]
  },
  {
   "cell_type": "markdown",
   "id": "da41141f",
   "metadata": {},
   "source": [
    "**4. 建立模型**"
   ]
  },
  {
   "cell_type": "markdown",
   "id": "c51224d8-4726-4745-ac3b-1d694f07e594",
   "metadata": {},
   "source": [
    "决策树在运行时并不会把所有的特征都放进去，而是每次都选择了一部分特征，因此同一个数据集，用同一个模型运行，出现的结果会不稳定，需要设置好状态\n",
    "\n",
    "splitter也是同样的作用，用于控制特征的随机性"
   ]
  },
  {
   "cell_type": "code",
   "execution_count": 23,
   "id": "beb5b57b",
   "metadata": {},
   "outputs": [
    {
     "data": {
      "text/plain": [
       "0.9259259259259259"
      ]
     },
     "execution_count": 23,
     "metadata": {},
     "output_type": "execute_result"
    }
   ],
   "source": [
    "clf = tree.DecisionTreeClassifier(criterion='entropy'\n",
    "                                 ,random_state=0\n",
    "                                 # ,splitter='best'\n",
    "                                 )\n",
    "clf = clf.fit(Xtrain, Ytrain)\n",
    "score = clf.score(Xtest, Ytest)  # 返回预测的准确度\n",
    "\n",
    "score"
   ]
  },
  {
   "cell_type": "markdown",
   "id": "1aebf037",
   "metadata": {},
   "source": [
    "**5.画出决策树**"
   ]
  },
  {
   "cell_type": "code",
   "execution_count": 6,
   "id": "aa40e795",
   "metadata": {},
   "outputs": [],
   "source": [
    "feature_name = ['酒精','苹果酸','灰','灰碱','镁','总酚','类黄酮','非黄烷类酚类','花青素','颜色强度','色调','od280/od315稀释葡萄酒','脯氨酸']\n",
    "\n",
    "import graphviz\n",
    "dot_data = tree.export_graphviz(clf\n",
    "                               ,feature_names=feature_name\n",
    "                               ,class_names=['琴酒','雪莉','贝尔摩德']\n",
    "                               ,filled=True\n",
    "                               ,rounded=True\n",
    "                               ,special_characters='utf-8'\n",
    "                               )\n",
    "\n",
    "graph = graphviz.Source(dot_data)"
   ]
  },
  {
   "cell_type": "code",
   "execution_count": 8,
   "id": "1b1f103a",
   "metadata": {},
   "outputs": [
    {
     "data": {
      "image/svg+xml": [
       "<?xml version=\"1.0\" encoding=\"UTF-8\" standalone=\"no\"?>\n",
       "<!DOCTYPE svg PUBLIC \"-//W3C//DTD SVG 1.1//EN\"\n",
       " \"http://www.w3.org/Graphics/SVG/1.1/DTD/svg11.dtd\">\n",
       "<!-- Generated by graphviz version 2.38.0 (20140413.2041)\n",
       " -->\n",
       "<!-- Title: Tree Pages: 1 -->\n",
       "<svg width=\"609pt\" height=\"433pt\"\n",
       " viewBox=\"0.00 0.00 609.00 433.00\" xmlns=\"http://www.w3.org/2000/svg\" xmlns:xlink=\"http://www.w3.org/1999/xlink\">\n",
       "<g id=\"graph0\" class=\"graph\" transform=\"scale(1 1) rotate(0) translate(4 429)\">\n",
       "<title>Tree</title>\n",
       "<polygon fill=\"white\" stroke=\"none\" points=\"-4,4 -4,-429 605,-429 605,4 -4,4\"/>\n",
       "<!-- 0 -->\n",
       "<g id=\"node1\" class=\"node\"><title>0</title>\n",
       "<path fill=\"#d9fae7\" stroke=\"black\" d=\"M321,-425C321,-425 208,-425 208,-425 202,-425 196,-419 196,-413 196,-413 196,-354 196,-354 196,-348 202,-342 208,-342 208,-342 321,-342 321,-342 327,-342 333,-348 333,-354 333,-354 333,-413 333,-413 333,-419 327,-425 321,-425\"/>\n",
       "<text text-anchor=\"start\" x=\"219\" y=\"-409.8\" font-family=\"Helvetica,sans-Serif\" font-size=\"14.00\">类黄酮 ≤ 1.575</text>\n",
       "<text text-anchor=\"start\" x=\"214.5\" y=\"-394.8\" font-family=\"Helvetica,sans-Serif\" font-size=\"14.00\">entropy = 1.557</text>\n",
       "<text text-anchor=\"start\" x=\"217\" y=\"-379.8\" font-family=\"Helvetica,sans-Serif\" font-size=\"14.00\">samples = 124</text>\n",
       "<text text-anchor=\"start\" x=\"204\" y=\"-364.8\" font-family=\"Helvetica,sans-Serif\" font-size=\"14.00\">value = [36, 53, 35]</text>\n",
       "<text text-anchor=\"start\" x=\"227\" y=\"-349.8\" font-family=\"Helvetica,sans-Serif\" font-size=\"14.00\">class = 雪莉</text>\n",
       "</g>\n",
       "<!-- 1 -->\n",
       "<g id=\"node2\" class=\"node\"><title>1</title>\n",
       "<path fill=\"#9e66eb\" stroke=\"black\" d=\"M242,-306C242,-306 145,-306 145,-306 139,-306 133,-300 133,-294 133,-294 133,-235 133,-235 133,-229 139,-223 145,-223 145,-223 242,-223 242,-223 248,-223 254,-229 254,-235 254,-235 254,-294 254,-294 254,-300 248,-306 242,-306\"/>\n",
       "<text text-anchor=\"start\" x=\"158.5\" y=\"-290.8\" font-family=\"Helvetica,sans-Serif\" font-size=\"14.00\">色调 ≤ 0.93</text>\n",
       "<text text-anchor=\"start\" x=\"143.5\" y=\"-275.8\" font-family=\"Helvetica,sans-Serif\" font-size=\"14.00\">entropy = 0.693</text>\n",
       "<text text-anchor=\"start\" x=\"150\" y=\"-260.8\" font-family=\"Helvetica,sans-Serif\" font-size=\"14.00\">samples = 43</text>\n",
       "<text text-anchor=\"start\" x=\"141\" y=\"-245.8\" font-family=\"Helvetica,sans-Serif\" font-size=\"14.00\">value = [0, 8, 35]</text>\n",
       "<text text-anchor=\"start\" x=\"143.5\" y=\"-230.8\" font-family=\"Helvetica,sans-Serif\" font-size=\"14.00\">class = 贝尔摩德</text>\n",
       "</g>\n",
       "<!-- 0&#45;&gt;1 -->\n",
       "<g id=\"edge1\" class=\"edge\"><title>0&#45;&gt;1</title>\n",
       "<path fill=\"none\" stroke=\"black\" d=\"M239.867,-341.907C234.525,-333.105 228.82,-323.703 223.303,-314.612\"/>\n",
       "<polygon fill=\"black\" stroke=\"black\" points=\"226.27,-312.754 218.09,-306.021 220.285,-316.386 226.27,-312.754\"/>\n",
       "<text text-anchor=\"middle\" x=\"212.148\" y=\"-326.604\" font-family=\"Helvetica,sans-Serif\" font-size=\"14.00\">True</text>\n",
       "</g>\n",
       "<!-- 4 -->\n",
       "<g id=\"node5\" class=\"node\"><title>4</title>\n",
       "<path fill=\"#d7fae6\" stroke=\"black\" d=\"M389,-306C389,-306 284,-306 284,-306 278,-306 272,-300 272,-294 272,-294 272,-235 272,-235 272,-229 278,-223 284,-223 284,-223 389,-223 389,-223 395,-223 401,-229 401,-235 401,-235 401,-294 401,-294 401,-300 395,-306 389,-306\"/>\n",
       "<text text-anchor=\"start\" x=\"291\" y=\"-290.8\" font-family=\"Helvetica,sans-Serif\" font-size=\"14.00\">脯氨酸 ≤ 724.5</text>\n",
       "<text text-anchor=\"start\" x=\"286.5\" y=\"-275.8\" font-family=\"Helvetica,sans-Serif\" font-size=\"14.00\">entropy = 0.991</text>\n",
       "<text text-anchor=\"start\" x=\"293\" y=\"-260.8\" font-family=\"Helvetica,sans-Serif\" font-size=\"14.00\">samples = 81</text>\n",
       "<text text-anchor=\"start\" x=\"280\" y=\"-245.8\" font-family=\"Helvetica,sans-Serif\" font-size=\"14.00\">value = [36, 45, 0]</text>\n",
       "<text text-anchor=\"start\" x=\"299\" y=\"-230.8\" font-family=\"Helvetica,sans-Serif\" font-size=\"14.00\">class = 雪莉</text>\n",
       "</g>\n",
       "<!-- 0&#45;&gt;4 -->\n",
       "<g id=\"edge4\" class=\"edge\"><title>0&#45;&gt;4</title>\n",
       "<path fill=\"none\" stroke=\"black\" d=\"M289.48,-341.907C294.897,-333.105 300.683,-323.703 306.277,-314.612\"/>\n",
       "<polygon fill=\"black\" stroke=\"black\" points=\"309.304,-316.372 311.564,-306.021 303.342,-312.703 309.304,-316.372\"/>\n",
       "<text text-anchor=\"middle\" x=\"317.355\" y=\"-326.641\" font-family=\"Helvetica,sans-Serif\" font-size=\"14.00\">False</text>\n",
       "</g>\n",
       "<!-- 2 -->\n",
       "<g id=\"node3\" class=\"node\"><title>2</title>\n",
       "<path fill=\"#8139e5\" stroke=\"black\" d=\"M109,-179.5C109,-179.5 12,-179.5 12,-179.5 6,-179.5 0,-173.5 0,-167.5 0,-167.5 0,-123.5 0,-123.5 0,-117.5 6,-111.5 12,-111.5 12,-111.5 109,-111.5 109,-111.5 115,-111.5 121,-117.5 121,-123.5 121,-123.5 121,-167.5 121,-167.5 121,-173.5 115,-179.5 109,-179.5\"/>\n",
       "<text text-anchor=\"start\" x=\"18.5\" y=\"-164.3\" font-family=\"Helvetica,sans-Serif\" font-size=\"14.00\">entropy = 0.0</text>\n",
       "<text text-anchor=\"start\" x=\"17\" y=\"-149.3\" font-family=\"Helvetica,sans-Serif\" font-size=\"14.00\">samples = 35</text>\n",
       "<text text-anchor=\"start\" x=\"8\" y=\"-134.3\" font-family=\"Helvetica,sans-Serif\" font-size=\"14.00\">value = [0, 0, 35]</text>\n",
       "<text text-anchor=\"start\" x=\"10.5\" y=\"-119.3\" font-family=\"Helvetica,sans-Serif\" font-size=\"14.00\">class = 贝尔摩德</text>\n",
       "</g>\n",
       "<!-- 1&#45;&gt;2 -->\n",
       "<g id=\"edge2\" class=\"edge\"><title>1&#45;&gt;2</title>\n",
       "<path fill=\"none\" stroke=\"black\" d=\"M147.356,-222.907C133.935,-211.101 119.289,-198.217 105.913,-186.45\"/>\n",
       "<polygon fill=\"black\" stroke=\"black\" points=\"108.023,-183.644 98.2026,-179.667 103.399,-188.9 108.023,-183.644\"/>\n",
       "</g>\n",
       "<!-- 3 -->\n",
       "<g id=\"node4\" class=\"node\"><title>3</title>\n",
       "<path fill=\"#39e581\" stroke=\"black\" d=\"M240,-179.5C240,-179.5 151,-179.5 151,-179.5 145,-179.5 139,-173.5 139,-167.5 139,-167.5 139,-123.5 139,-123.5 139,-117.5 145,-111.5 151,-111.5 151,-111.5 240,-111.5 240,-111.5 246,-111.5 252,-117.5 252,-123.5 252,-123.5 252,-167.5 252,-167.5 252,-173.5 246,-179.5 240,-179.5\"/>\n",
       "<text text-anchor=\"start\" x=\"153.5\" y=\"-164.3\" font-family=\"Helvetica,sans-Serif\" font-size=\"14.00\">entropy = 0.0</text>\n",
       "<text text-anchor=\"start\" x=\"156\" y=\"-149.3\" font-family=\"Helvetica,sans-Serif\" font-size=\"14.00\">samples = 8</text>\n",
       "<text text-anchor=\"start\" x=\"147\" y=\"-134.3\" font-family=\"Helvetica,sans-Serif\" font-size=\"14.00\">value = [0, 8, 0]</text>\n",
       "<text text-anchor=\"start\" x=\"158\" y=\"-119.3\" font-family=\"Helvetica,sans-Serif\" font-size=\"14.00\">class = 雪莉</text>\n",
       "</g>\n",
       "<!-- 1&#45;&gt;3 -->\n",
       "<g id=\"edge3\" class=\"edge\"><title>1&#45;&gt;3</title>\n",
       "<path fill=\"none\" stroke=\"black\" d=\"M194.194,-222.907C194.377,-212.204 194.575,-200.615 194.76,-189.776\"/>\n",
       "<polygon fill=\"black\" stroke=\"black\" points=\"198.262,-189.725 194.933,-179.667 191.263,-189.606 198.262,-189.725\"/>\n",
       "</g>\n",
       "<!-- 5 -->\n",
       "<g id=\"node6\" class=\"node\"><title>5</title>\n",
       "<path fill=\"#39e581\" stroke=\"black\" d=\"M383,-179.5C383,-179.5 286,-179.5 286,-179.5 280,-179.5 274,-173.5 274,-167.5 274,-167.5 274,-123.5 274,-123.5 274,-117.5 280,-111.5 286,-111.5 286,-111.5 383,-111.5 383,-111.5 389,-111.5 395,-117.5 395,-123.5 395,-123.5 395,-167.5 395,-167.5 395,-173.5 389,-179.5 383,-179.5\"/>\n",
       "<text text-anchor=\"start\" x=\"292.5\" y=\"-164.3\" font-family=\"Helvetica,sans-Serif\" font-size=\"14.00\">entropy = 0.0</text>\n",
       "<text text-anchor=\"start\" x=\"291\" y=\"-149.3\" font-family=\"Helvetica,sans-Serif\" font-size=\"14.00\">samples = 41</text>\n",
       "<text text-anchor=\"start\" x=\"282\" y=\"-134.3\" font-family=\"Helvetica,sans-Serif\" font-size=\"14.00\">value = [0, 41, 0]</text>\n",
       "<text text-anchor=\"start\" x=\"297\" y=\"-119.3\" font-family=\"Helvetica,sans-Serif\" font-size=\"14.00\">class = 雪莉</text>\n",
       "</g>\n",
       "<!-- 4&#45;&gt;5 -->\n",
       "<g id=\"edge5\" class=\"edge\"><title>4&#45;&gt;5</title>\n",
       "<path fill=\"none\" stroke=\"black\" d=\"M335.806,-222.907C335.623,-212.204 335.425,-200.615 335.24,-189.776\"/>\n",
       "<polygon fill=\"black\" stroke=\"black\" points=\"338.737,-189.606 335.067,-179.667 331.738,-189.725 338.737,-189.606\"/>\n",
       "</g>\n",
       "<!-- 6 -->\n",
       "<g id=\"node7\" class=\"node\"><title>6</title>\n",
       "<path fill=\"#e88f4f\" stroke=\"black\" d=\"M522,-187C522,-187 425,-187 425,-187 419,-187 413,-181 413,-175 413,-175 413,-116 413,-116 413,-110 419,-104 425,-104 425,-104 522,-104 522,-104 528,-104 534,-110 534,-116 534,-116 534,-175 534,-175 534,-181 528,-187 522,-187\"/>\n",
       "<text text-anchor=\"start\" x=\"426\" y=\"-171.8\" font-family=\"Helvetica,sans-Serif\" font-size=\"14.00\">颜色强度 ≤ 3.46</text>\n",
       "<text text-anchor=\"start\" x=\"423.5\" y=\"-156.8\" font-family=\"Helvetica,sans-Serif\" font-size=\"14.00\">entropy = 0.469</text>\n",
       "<text text-anchor=\"start\" x=\"430\" y=\"-141.8\" font-family=\"Helvetica,sans-Serif\" font-size=\"14.00\">samples = 40</text>\n",
       "<text text-anchor=\"start\" x=\"421\" y=\"-126.8\" font-family=\"Helvetica,sans-Serif\" font-size=\"14.00\">value = [36, 4, 0]</text>\n",
       "<text text-anchor=\"start\" x=\"436\" y=\"-111.8\" font-family=\"Helvetica,sans-Serif\" font-size=\"14.00\">class = 琴酒</text>\n",
       "</g>\n",
       "<!-- 4&#45;&gt;6 -->\n",
       "<g id=\"edge6\" class=\"edge\"><title>4&#45;&gt;6</title>\n",
       "<path fill=\"none\" stroke=\"black\" d=\"M384.031,-222.907C395.083,-213.469 406.94,-203.343 418.291,-193.649\"/>\n",
       "<polygon fill=\"black\" stroke=\"black\" points=\"420.721,-196.177 426.053,-187.021 416.175,-190.854 420.721,-196.177\"/>\n",
       "</g>\n",
       "<!-- 7 -->\n",
       "<g id=\"node8\" class=\"node\"><title>7</title>\n",
       "<path fill=\"#39e581\" stroke=\"black\" d=\"M450,-68C450,-68 361,-68 361,-68 355,-68 349,-62 349,-56 349,-56 349,-12 349,-12 349,-6 355,-0 361,-0 361,-0 450,-0 450,-0 456,-0 462,-6 462,-12 462,-12 462,-56 462,-56 462,-62 456,-68 450,-68\"/>\n",
       "<text text-anchor=\"start\" x=\"363.5\" y=\"-52.8\" font-family=\"Helvetica,sans-Serif\" font-size=\"14.00\">entropy = 0.0</text>\n",
       "<text text-anchor=\"start\" x=\"366\" y=\"-37.8\" font-family=\"Helvetica,sans-Serif\" font-size=\"14.00\">samples = 4</text>\n",
       "<text text-anchor=\"start\" x=\"357\" y=\"-22.8\" font-family=\"Helvetica,sans-Serif\" font-size=\"14.00\">value = [0, 4, 0]</text>\n",
       "<text text-anchor=\"start\" x=\"368\" y=\"-7.8\" font-family=\"Helvetica,sans-Serif\" font-size=\"14.00\">class = 雪莉</text>\n",
       "</g>\n",
       "<!-- 6&#45;&gt;7 -->\n",
       "<g id=\"edge7\" class=\"edge\"><title>6&#45;&gt;7</title>\n",
       "<path fill=\"none\" stroke=\"black\" d=\"M448.179,-103.726C442.742,-94.9703 436.987,-85.7032 431.523,-76.9051\"/>\n",
       "<polygon fill=\"black\" stroke=\"black\" points=\"434.428,-74.9484 426.179,-68.2996 428.481,-78.6413 434.428,-74.9484\"/>\n",
       "</g>\n",
       "<!-- 8 -->\n",
       "<g id=\"node9\" class=\"node\"><title>8</title>\n",
       "<path fill=\"#e58139\" stroke=\"black\" d=\"M589,-68C589,-68 492,-68 492,-68 486,-68 480,-62 480,-56 480,-56 480,-12 480,-12 480,-6 486,-0 492,-0 492,-0 589,-0 589,-0 595,-0 601,-6 601,-12 601,-12 601,-56 601,-56 601,-62 595,-68 589,-68\"/>\n",
       "<text text-anchor=\"start\" x=\"498.5\" y=\"-52.8\" font-family=\"Helvetica,sans-Serif\" font-size=\"14.00\">entropy = 0.0</text>\n",
       "<text text-anchor=\"start\" x=\"497\" y=\"-37.8\" font-family=\"Helvetica,sans-Serif\" font-size=\"14.00\">samples = 36</text>\n",
       "<text text-anchor=\"start\" x=\"488\" y=\"-22.8\" font-family=\"Helvetica,sans-Serif\" font-size=\"14.00\">value = [36, 0, 0]</text>\n",
       "<text text-anchor=\"start\" x=\"503\" y=\"-7.8\" font-family=\"Helvetica,sans-Serif\" font-size=\"14.00\">class = 琴酒</text>\n",
       "</g>\n",
       "<!-- 6&#45;&gt;8 -->\n",
       "<g id=\"edge8\" class=\"edge\"><title>6&#45;&gt;8</title>\n",
       "<path fill=\"none\" stroke=\"black\" d=\"M498.448,-103.726C503.806,-94.9703 509.476,-85.7032 514.859,-76.9051\"/>\n",
       "<polygon fill=\"black\" stroke=\"black\" points=\"517.891,-78.6563 520.125,-68.2996 511.92,-75.0028 517.891,-78.6563\"/>\n",
       "</g>\n",
       "</g>\n",
       "</svg>\n"
      ],
      "text/plain": [
       "<graphviz.sources.Source at 0x28fad805220>"
      ]
     },
     "execution_count": 8,
     "metadata": {},
     "output_type": "execute_result"
    }
   ],
   "source": [
    "graph"
   ]
  },
  {
   "cell_type": "markdown",
   "id": "76dc39fa-2d95-4079-b355-e610161a34d4",
   "metadata": {},
   "source": [
    "**6. 探索决策树**"
   ]
  },
  {
   "cell_type": "code",
   "execution_count": 11,
   "id": "3533c5f9-0209-47dd-b706-4ea30d2a8dc4",
   "metadata": {},
   "outputs": [
    {
     "data": {
      "text/plain": [
       "array([0.        , 0.        , 0.        , 0.        , 0.        ,\n",
       "       0.        , 0.42991932, 0.        , 0.        , 0.09715165,\n",
       "       0.1543487 , 0.        , 0.31858033])"
      ]
     },
     "execution_count": 11,
     "metadata": {},
     "output_type": "execute_result"
    }
   ],
   "source": [
    "clf.feature_importances_"
   ]
  },
  {
   "cell_type": "code",
   "execution_count": 15,
   "id": "c1203d07-1c6d-4d52-9c33-546221fe47c6",
   "metadata": {},
   "outputs": [
    {
     "data": {
      "text/plain": [
       "[('酒精', 0.0),\n",
       " ('苹果酸', 0.0),\n",
       " ('灰', 0.0),\n",
       " ('灰碱', 0.0),\n",
       " ('镁', 0.0),\n",
       " ('总酚', 0.0),\n",
       " ('类黄酮', 0.42991932278215383),\n",
       " ('非黄烷类酚类', 0.0),\n",
       " ('花青素', 0.0),\n",
       " ('颜色强度', 0.09715165083645111),\n",
       " ('色调', 0.15434869554547562),\n",
       " ('od280/od315稀释葡萄酒', 0.0),\n",
       " ('脯氨酸', 0.31858033083591936)]"
      ]
     },
     "execution_count": 15,
     "metadata": {},
     "output_type": "execute_result"
    }
   ],
   "source": [
    "[*zip(feature_name, clf.feature_importances_)]"
   ]
  },
  {
   "cell_type": "markdown",
   "id": "ee53e421-56b0-4762-bbf2-3fc9a22457d3",
   "metadata": {},
   "source": [
    "**7. 剪枝策略**"
   ]
  },
  {
   "cell_type": "markdown",
   "id": "26316836-56c6-45c0-acf7-3f955fe9668a",
   "metadata": {},
   "source": [
    "对训练集的拟合程度"
   ]
  },
  {
   "cell_type": "code",
   "execution_count": 25,
   "id": "7566f7f8-fbe1-4b8f-a520-aa3203d1f249",
   "metadata": {},
   "outputs": [
    {
     "data": {
      "text/plain": [
       "1.0"
      ]
     },
     "execution_count": 25,
     "metadata": {},
     "output_type": "execute_result"
    }
   ],
   "source": [
    "score_train = clf.score(Xtrain, Ytrain)\n",
    "score_train"
   ]
  },
  {
   "cell_type": "markdown",
   "id": "257b3043-eb7d-4bef-92c3-6e61a78c94f3",
   "metadata": {},
   "source": [
    "+ **max_depth**"
   ]
  },
  {
   "cell_type": "markdown",
   "id": "9aabe570-0603-4347-bcd2-dfc613f8cb9c",
   "metadata": {
    "tags": []
   },
   "source": [
    "在集成算法中也非常实用，在实际中建议从n=3开始尝试"
   ]
  },
  {
   "cell_type": "code",
   "execution_count": 27,
   "id": "f91db017-497f-4690-8293-553718aca223",
   "metadata": {},
   "outputs": [
    {
     "data": {
      "text/plain": [
       "0.9259259259259259"
      ]
     },
     "execution_count": 27,
     "metadata": {},
     "output_type": "execute_result"
    }
   ],
   "source": [
    "clf = tree.DecisionTreeClassifier(criterion='entropy'\n",
    "                                 ,random_state=0\n",
    "                                 ,max_depth=3\n",
    "                                 )\n",
    "clf = clf.fit(Xtrain, Ytrain)\n",
    "score = clf.score(Xtest, Ytest)  # 返回预测的准确度\n",
    "\n",
    "dot_data = tree.export_graphviz(clf\n",
    "                               ,feature_names=feature_name\n",
    "                               ,class_names=['琴酒','雪莉','贝尔摩德']\n",
    "                               ,filled=True\n",
    "                               ,rounded=True\n",
    "                               ,special_characters='utf-8'\n",
    "                               )\n",
    "\n",
    "graph = graphviz.Source(dot_data)\n",
    "\n",
    "graph"
   ]
  },
  {
   "cell_type": "markdown",
   "id": "168dcdf8-db64-4517-a2b6-139ef18509da",
   "metadata": {},
   "source": [
    "+ **min_samples_leaf或者min_samples_split**"
   ]
  },
  {
   "cell_type": "markdown",
   "id": "220ddfce-66ae-4a01-b71c-8787ba2be9c6",
   "metadata": {},
   "source": [
    "min_samples_leaf用于限制叶子节点最少具有几个样本；min_samples_split限制需要分裂的中间节点最少具有几个样本\n",
    "\n",
    "一般会搭配max_depth实用，使模型平滑。参数设置太小，容易引起过拟合；设置太大，会阻止模型学习，一般从n=5开始尝试。叶子节点在训练集和测试集中包含的样本量差距较大时，一般用浮点数作为百分比。对于类别不多的情况，n=1就是最佳选择"
   ]
  },
  {
   "cell_type": "code",
   "execution_count": 35,
   "id": "2837b31a-76f1-4e0f-bd2b-716ea99b1184",
   "metadata": {},
   "outputs": [
    {
     "data": {
      "text/plain": [
       "0.9259259259259259"
      ]
     },
     "execution_count": 35,
     "metadata": {},
     "output_type": "execute_result"
    }
   ],
   "source": [
    "clf = tree.DecisionTreeClassifier(criterion='entropy'\n",
    "                                 ,random_state=0\n",
    "                                 ,min_samples_leaf=1\n",
    "                                 )\n",
    "clf = clf.fit(Xtrain, Ytrain)\n",
    "score = clf.score(Xtest, Ytest)  # 返回预测的准确度\n",
    "\n",
    "dot_data = tree.export_graphviz(clf\n",
    "                               ,feature_names=feature_name\n",
    "                               ,class_names=['琴酒','雪莉','贝尔摩德']\n",
    "                               ,filled=True\n",
    "                               ,rounded=True\n",
    "                               ,special_characters='utf-8'\n",
    "                               )\n",
    "\n",
    "graph = graphviz.Source(dot_data)\n",
    "\n",
    "graph"
   ]
  },
  {
   "cell_type": "markdown",
   "id": "4a24e09c-6980-431a-93ef-dc27089d17a5",
   "metadata": {},
   "source": [
    "+ **max_features或者min_impurity_decrease**"
   ]
  },
  {
   "cell_type": "markdown",
   "id": "3edcb032-7b65-48b9-b1a0-b43dce1214f3",
   "metadata": {},
   "source": [
    "max_features限制可用的特征数量，由于比较简单粗暴，很少用，一般会用PCA等方法对高维数据降维"
   ]
  },
  {
   "cell_type": "markdown",
   "id": "a7b72193-2593-4402-b812-4ac83f16353e",
   "metadata": {},
   "source": [
    "+ **确认最优的剪枝曲线**"
   ]
  },
  {
   "cell_type": "code",
   "execution_count": 39,
   "id": "504b566f-ec1a-4940-a400-84b73cda77e4",
   "metadata": {},
   "outputs": [
    {
     "data": {
      "image/png": "[encoded data removed]",
      "text/plain": [
       "<Figure size 432x288 with 1 Axes>"
      ]
     },
     "metadata": {
      "needs_background": "light"
     },
     "output_type": "display_data"
    }
   ],
   "source": [
    "import matplotlib.pyplot as plt\n",
    "\n",
    "test = []\n",
    "for i in range(10):\n",
    "    clf = tree.DecisionTreeClassifier(criterion='entropy'\n",
    "                                     ,random_state=0\n",
    "                                     ,splitter='random'\n",
    "                                     ,max_depth=i+1\n",
    "                                     )\n",
    "    clf = clf.fit(Xtrain, Ytrain)\n",
    "    score = clf.score(Xtest, Ytest)\n",
    "    test.append(score)\n",
    "\n",
    "plt.plot(range(1,11), test, color='red', label='max_depth')\n",
    "plt.legend()\n",
    "plt.show()"
   ]
  },
  {
   "cell_type": "markdown",
   "id": "83194101-e3b5-4f42-b595-313f2b82e130",
   "metadata": {},
   "source": [
    "思考：\n",
    "\n",
    "1.那么多特征和参数，挨个画曲线吗？\n",
    "\n",
    "2.剪枝曲线一定能提升在测试集上的表现吗？-----不一定，调参没有绝对的答案，一切看数据本身"
   ]
  },
  {
   "cell_type": "markdown",
   "id": "d8aae446-be90-41aa-8157-05d0bc6b1dbb",
   "metadata": {},
   "source": [
    "**8. 目标权重参数**"
   ]
  },
  {
   "cell_type": "markdown",
   "id": "e47ee37b-3fb0-493a-a009-88d452d78efe",
   "metadata": {},
   "source": [
    "+ **class_weight与min_weight_fraction_leaf**"
   ]
  },
  {
   "cell_type": "markdown",
   "id": "feb00be6-924e-4b76-b992-ba870a6724df",
   "metadata": {},
   "source": [
    "用于完成样本不均衡的情况"
   ]
  },
  {
   "cell_type": "markdown",
   "id": "ee082734-c3c3-43d3-9c80-72c39a998db2",
   "metadata": {},
   "source": [
    "**9. 重要属性和接口**"
   ]
  },
  {
   "cell_type": "code",
   "execution_count": 41,
   "id": "2dd6d49b-fd61-444d-bc5d-f420d6f093b8",
   "metadata": {},
   "outputs": [
    {
     "data": {
      "text/plain": [
       "array([ 6,  6,  2, 10,  2,  2,  2,  2,  6,  6, 15, 15, 15,  2,  2, 15,  3,\n",
       "        2, 15,  2,  8, 15,  2,  2,  2, 18,  3,  8, 18,  2, 15,  6, 18,  6,\n",
       "       13,  6,  2,  2,  6,  6,  2, 15,  6,  2,  3,  2,  6,  6,  8,  3, 13,\n",
       "       18, 15,  3,  6,  2,  6,  6,  2,  3,  8,  2, 15,  6,  6,  3,  6, 15,\n",
       "        8,  2,  2, 15, 15, 11,  2,  8,  3,  2,  3,  3, 17, 15, 15,  3,  6,\n",
       "        6,  6,  2,  2, 18, 10,  2,  6,  2,  2, 15,  6,  6, 15, 15, 15, 15,\n",
       "       15,  8,  3, 18, 15, 15, 15, 15, 15, 15, 18,  2,  6, 11,  2,  3,  2,\n",
       "        6,  6,  3,  2,  2], dtype=int64)"
      ]
     },
     "execution_count": 41,
     "metadata": {},
     "output_type": "execute_result"
    }
   ],
   "source": [
    "# 对应的数据所有的叶子节点的索引\n",
    "clf.apply(Xtrain)"
   ]
  },
  {
   "cell_type": "code",
   "execution_count": 42,
   "id": "c16bcf78-e9e6-4c24-be43-21e246bd7ce4",
   "metadata": {},
   "outputs": [
    {
     "data": {
      "text/plain": [
       "array([1, 1, 2, 1, 2, 2, 2, 2, 1, 1, 0, 0, 0, 2, 2, 0, 1, 2, 0, 2, 1, 0,\n",
       "       2, 2, 2, 0, 1, 1, 0, 2, 0, 1, 0, 1, 1, 1, 2, 2, 1, 1, 2, 0, 1, 2,\n",
       "       1, 2, 1, 1, 1, 1, 1, 0, 0, 1, 1, 2, 1, 1, 2, 1, 1, 2, 0, 1, 1, 1,\n",
       "       1, 0, 1, 2, 2, 0, 0, 0, 2, 1, 1, 2, 1, 1, 1, 0, 0, 1, 1, 1, 1, 2,\n",
       "       2, 0, 1, 2, 1, 2, 2, 0, 1, 1, 0, 0, 0, 0, 0, 1, 1, 0, 0, 0, 0, 0,\n",
       "       0, 0, 0, 2, 1, 0, 2, 1, 2, 1, 1, 1, 2, 2])"
      ]
     },
     "execution_count": 42,
     "metadata": {},
     "output_type": "execute_result"
    }
   ],
   "source": [
    "# 预测类别\n",
    "clf.predict(Xtrain)"
   ]
  },
  {
   "cell_type": "markdown",
   "id": "185eb4af-ac4c-4e6a-be6b-704d55e4070f",
   "metadata": {},
   "source": [
    "**10. 实例：分类树在红酒数据集上的表现**"
   ]
  },
  {
   "cell_type": "markdown",
   "id": "163dfc96-832b-4932-ba85-ad103fd2aeb1",
   "metadata": {},
   "source": [
    "以上在红酒数据集上画一棵树，并展示了修改多个参数会对树形成这样的影响。接下来展示在不同的数据集上决策树的效果，让大家更好地理解决策树。"
   ]
  },
  {
   "cell_type": "markdown",
   "id": "b80d319f-dfdf-4969-a497-64836125a1fc",
   "metadata": {},
   "source": [
    "**导入数据**"
   ]
  },
  {
   "cell_type": "code",
   "execution_count": 1,
   "id": "7d47a802-b4ae-470e-a91e-98e57c82051b",
   "metadata": {},
   "outputs": [],
   "source": [
    "import numpy as np\n",
    "import matplotlib.pyplot as plt\n",
    "from matplotlib.colors import ListedColormap\n",
    "from sklearn.model_selection import train_test_split\n",
    "from sklearn.preprocessing import StandardScaler\n",
    "from sklearn.datasets import make_moons, make_circles, make_classification\n",
    "from sklearn.tree import DecisionTreeClassifier"
   ]
  },
  {
   "cell_type": "code",
   "execution_count": 17,
   "id": "c14b286e-0600-47c3-b129-683f68837ad7",
   "metadata": {},
   "outputs": [],
   "source": [
    "import pandas as pd\n",
    "import seaborn as sns"
   ]
  },
  {
   "cell_type": "markdown",
   "id": "e2697e64-03c2-4316-b70e-df6a22f1c32e",
   "metadata": {},
   "source": [
    "**生成三种数据集**\n",
    "1. 月亮型数据\n",
    "2. 环形数\n",
    "3. 二分型数据"
   ]
  },
  {
   "cell_type": "code",
   "execution_count": 32,
   "id": "2b248220-e115-4b7d-b97c-d656b7b54e4b",
   "metadata": {},
   "outputs": [],
   "source": [
    "# make_classification库生成随机的二分型数据\n",
    "X, y = make_classification(n_samples=100, #生成100个样本\n",
    "                           n_features=2,  #包含2个特征，即生成二维数据\n",
    "                           n_redundant=0, #添加冗余特征0个\n",
    "                           n_informative=2, #包含信息的特征是2个\n",
    "                           random_state=1,  #随机模式1\n",
    "                           n_clusters_per_class=1 #每个簇内包含的标签类别有1个\n",
    "                          )"
   ]
  },
  {
   "cell_type": "code",
   "execution_count": 21,
   "id": "e91e0e56-3efc-4b7d-a893-51bfeb153362",
   "metadata": {
    "tags": []
   },
   "outputs": [
    {
     "data": {
      "text/plain": [
       "(100, 2)"
      ]
     },
     "execution_count": 21,
     "metadata": {},
     "output_type": "execute_result"
    }
   ],
   "source": [
    "X.shape"
   ]
  },
  {
   "cell_type": "code",
   "execution_count": 22,
   "id": "ca769f42-98ee-4f7d-a99a-7c1bdcf6039f",
   "metadata": {},
   "outputs": [
    {
     "data": {
      "text/plain": [
       "array([1, 0, 0, 1, 1, 1, 0, 1, 0, 1, 0, 0, 0, 0, 0, 0, 1, 1, 1, 1, 1, 0,\n",
       "       1, 0, 0, 1, 0, 0, 0, 1, 1, 1, 1, 0, 0, 1, 0, 0, 0, 0, 1, 1, 0, 0,\n",
       "       1, 0, 1, 1, 0, 1, 1, 0, 1, 1, 1, 0, 0, 0, 1, 1, 0, 0, 1, 0, 0, 1,\n",
       "       0, 0, 0, 1, 0, 0, 0, 1, 1, 1, 0, 1, 1, 1, 0, 0, 0, 1, 1, 1, 0, 1,\n",
       "       1, 1, 0, 1, 0, 0, 1, 0, 1, 1, 0, 1])"
      ]
     },
     "execution_count": 22,
     "metadata": {},
     "output_type": "execute_result"
    }
   ],
   "source": [
    "y"
   ]
  },
  {
   "cell_type": "code",
   "execution_count": 24,
   "id": "53bb8448-4c81-45e8-82d4-ec2071841889",
   "metadata": {},
   "outputs": [
    {
     "data": {
      "text/html": [
       "<div>\n",
       "<style scoped>\n",
       "    .dataframe tbody tr th:only-of-type {\n",
       "        vertical-align: middle;\n",
       "    }\n",
       "\n",
       "    .dataframe tbody tr th {\n",
       "        vertical-align: top;\n",
       "    }\n",
       "\n",
       "    .dataframe thead th {\n",
       "        text-align: right;\n",
       "    }\n",
       "</style>\n",
       "<table border=\"1\" class=\"dataframe\">\n",
       "  <thead>\n",
       "    <tr style=\"text-align: right;\">\n",
       "      <th></th>\n",
       "      <th>cola</th>\n",
       "      <th>colb</th>\n",
       "      <th>y</th>\n",
       "    </tr>\n",
       "  </thead>\n",
       "  <tbody>\n",
       "    <tr>\n",
       "      <th>0</th>\n",
       "      <td>-1.049486</td>\n",
       "      <td>0.878644</td>\n",
       "      <td>1</td>\n",
       "    </tr>\n",
       "    <tr>\n",
       "      <th>1</th>\n",
       "      <td>0.878099</td>\n",
       "      <td>0.895511</td>\n",
       "      <td>0</td>\n",
       "    </tr>\n",
       "    <tr>\n",
       "      <th>2</th>\n",
       "      <td>0.959288</td>\n",
       "      <td>1.039673</td>\n",
       "      <td>0</td>\n",
       "    </tr>\n",
       "    <tr>\n",
       "      <th>3</th>\n",
       "      <td>-1.180134</td>\n",
       "      <td>1.120622</td>\n",
       "      <td>1</td>\n",
       "    </tr>\n",
       "    <tr>\n",
       "      <th>4</th>\n",
       "      <td>-0.907318</td>\n",
       "      <td>1.060409</td>\n",
       "      <td>1</td>\n",
       "    </tr>\n",
       "  </tbody>\n",
       "</table>\n",
       "</div>"
      ],
      "text/plain": [
       "       cola      colb  y\n",
       "0 -1.049486  0.878644  1\n",
       "1  0.878099  0.895511  0\n",
       "2  0.959288  1.039673  0\n",
       "3 -1.180134  1.120622  1\n",
       "4 -0.907318  1.060409  1"
      ]
     },
     "execution_count": 24,
     "metadata": {},
     "output_type": "execute_result"
    }
   ],
   "source": [
    "df = pd.DataFrame({'cola': X[:,0], 'colb':X[:,1], 'y':y})\n",
    "df.head()"
   ]
  },
  {
   "cell_type": "code",
   "execution_count": 26,
   "id": "b2d93121-dfbb-413f-aae1-7fafa608b9f1",
   "metadata": {},
   "outputs": [
    {
     "data": {
      "image/png": "[encoded data removed]",
      "text/plain": [
       "<Figure size 432x288 with 1 Axes>"
      ]
     },
     "metadata": {
      "needs_background": "light"
     },
     "output_type": "display_data"
    }
   ],
   "source": [
    "# seaborn作图\n",
    "sns.scatterplot(x='cola', y='colb', hue='y', style='y', data=df)\n",
    "plt.show()"
   ]
  },
  {
   "cell_type": "markdown",
   "id": "ffc329ce-f467-4873-bf57-a6faf8be7030",
   "metadata": {},
   "source": [
    "可以看到二分型的数据距离比较远，不利于测试分类器的效果，因此用np随机生成数组，通过让已经生成的二分型数据点加减0-1之间的随机数，使数据变得稀疏"
   ]
  },
  {
   "cell_type": "code",
   "execution_count": 33,
   "id": "001adbbb-ef08-4882-81d5-552adf64b8c9",
   "metadata": {},
   "outputs": [],
   "source": [
    "rng = np.random.RandomState(2)  # 生成一种随机模式\n",
    "X += 2 * rng.uniform(size=X.shape)\n",
    "linearly_separable = (X, y)"
   ]
  },
  {
   "cell_type": "code",
   "execution_count": 52,
   "id": "3735b869-d77c-4ff9-a9e6-582fcc2a1cc0",
   "metadata": {},
   "outputs": [
    {
     "data": {
      "image/png": "[encoded data removed]",
      "text/plain": [
       "<Figure size 432x288 with 1 Axes>"
      ]
     },
     "metadata": {
      "needs_background": "light"
     },
     "output_type": "display_data"
    }
   ],
   "source": [
    "df2 = pd.DataFrame({'cola': X[:,0], 'colb':X[:,1], 'y':y})\n",
    "sns.scatterplot(x='cola', y='colb', hue='y', style='y', data=df2)\n",
    "plt.show()"
   ]
  },
  {
   "cell_type": "markdown",
   "id": "07fe454f-d254-46da-af89-c6d3c45bb96c",
   "metadata": {},
   "source": [
    "这个过程只能进行一次，多次进行后，数据会混合得非常严重，导致分类器性能下降"
   ]
  },
  {
   "cell_type": "code",
   "execution_count": 69,
   "id": "705402aa-f167-404a-b9e6-38afbb5cae0d",
   "metadata": {},
   "outputs": [],
   "source": [
    "# 用make_moons创建月亮型数据，make_circles创建环形数据，并将三组数据打包起来放在列表datasets中\n",
    "datasets = [make_moons(noise=0.3, random_state=0),\n",
    "            make_circles(noise=0.2, factor=0.5, random_state=1),\n",
    "            linearly_separable]"
   ]
  },
  {
   "cell_type": "code",
   "execution_count": 63,
   "id": "88d4569c-cc86-4402-835c-f533d453873e",
   "metadata": {},
   "outputs": [],
   "source": [
    "# df_moon = pd.DataFrame({'cola': datasets[0][0][:,0], 'colb':datasets[0][0][:,1], 'y':datasets[0][1]})\n",
    "# sns.scatterplot(x='cola', y='colb', hue='y', style='y', data=df_moon)\n",
    "# plt.show()"
   ]
  },
  {
   "cell_type": "code",
   "execution_count": 64,
   "id": "5b760e72-e29b-4c23-b4f6-9d497e44e716",
   "metadata": {},
   "outputs": [],
   "source": [
    "# df_circle = pd.DataFrame({'cola': datasets[1][0][:,0], 'colb':datasets[1][0][:,1], 'y':datasets[1][1]})\n",
    "# sns.scatterplot(x='cola', y='colb', hue='y', style='y', data=df_circle)\n",
    "# plt.show()"
   ]
  },
  {
   "cell_type": "markdown",
   "id": "cf2c0262-4352-4b1c-a3f2-f340520b8531",
   "metadata": {},
   "source": [
    "**创建三种数据集以及决策树在对应的数据集上的分类表现**"
   ]
  },
  {
   "cell_type": "code",
   "execution_count": 81,
   "id": "888b5467-ea92-44bd-98c1-acd37f7b3a22",
   "metadata": {},
   "outputs": [
    {
     "name": "stdout",
     "output_type": "stream",
     "text": [
      "(28, 25)\n",
      "(27, 25)\n",
      "(29, 25)\n"
     ]
    },
    {
     "data": {
      "image/png": "[encoded data removed]",
      "text/plain": [
       "<Figure size 576x648 with 6 Axes>"
      ]
     },
     "metadata": {},
     "output_type": "display_data"
    }
   ],
   "source": [
    "fig = plt.figure(figsize=(8, 9))                            \n",
    "  \n",
    "i = 1\n",
    "for ds_index, ds in enumerate(datasets):\n",
    "    # 对数据进行标准化处理, 划分训练集和测试集\n",
    "    X, y = ds\n",
    "    X = StandardScaler().fit_transform(X)\n",
    "    X_train, X_test, Y_train, Y_test = train_test_split(X, y, test_size=0.4, random_state=33)\n",
    "    \n",
    "    # 对两个特征分别找稍大和稍小的数框住\n",
    "    x1_min, x1_max = X[:,0].min() - 0.5, X[:,0].max() + 0.5\n",
    "    x2_min, x2_max = X[:,1].min() - 0.5, X[:,1].max() + 0.5 \n",
    "    \n",
    "    # 生成网格\n",
    "    array1, array2 = np.meshgrid(np.arange(x1_min, x1_max, 0.2),  np.arange(x2_min, x2_max, 0.2))\n",
    "    \n",
    "    # 设置好正负样本要映射的颜色\n",
    "    cm = plt.cm.RdBu\n",
    "    cm_bright = ListedColormap(['#FF0000', '#0000FF'])\n",
    "    \n",
    "    ax = plt.subplot(3, 2, i)\n",
    "    \n",
    "    if ds_index == 0:\n",
    "        ax.set_title('Input data')\n",
    "\n",
    "    # 先放训练集\n",
    "    ax.scatter(X_train[:, 0], X_train[:,1], c=Y_train, cmap=cm_bright, edgecolors='k')\n",
    "    # 再放测试集\n",
    "    ax.scatter(X_test[:, 0], X_test[:,1], c=Y_test, alpha=0.5, cmap=cm_bright, edgecolors='k')\n",
    "    # 设置边框\n",
    "    ax.set_xticks(())\n",
    "    ax.set_yticks(())\n",
    "    \n",
    "    # 每次循环之后让图位于不同的行\n",
    "    i += 1\n",
    "    \n",
    "    ############################ 左侧数据集的图已经画好 ######################################\n",
    "    ax = plt.subplot(3, 2, i)\n",
    "    \n",
    "    # 决策树建模\n",
    "    clf = DecisionTreeClassifier(max_depth=5)\n",
    "    clf = clf.fit(X_train, Y_train)\n",
    "    score = clf.score(X_test, Y_test)\n",
    "    \n",
    "    # 绘制决策边界,为此需要将网格中的每个点映射到一种颜色\n",
    "    # 调用分类数据的接口， predict_proba返回每个数据对应的标签概率\n",
    "    # 由于决策树在训练时导入的数据有两个特征，所以在计算类概率时必须用相同的结构，即也要输入两个特征\n",
    "    # ravel()可以将一个多维数组转换为一维数组\n",
    "    # np.c_可以将两个数组结合起来\n",
    "    # 先把两个网格数据降维成一维\n",
    "    Z = clf.predict_proba(np.c_[array1.ravel(), array2.ravel()])[:,1]\n",
    "    # 返回的概率作为数据\n",
    "    Z = Z.reshape(array1.shape)\n",
    "    ax.contourf(array1, array2, Z, cmap=cm, alpha=0.8)\n",
    "    \n",
    "    \n",
    "    if ds_index == 0:\n",
    "        ax.set_title('Decision Tree')\n",
    "    # 先放训练集\n",
    "    ax.scatter(X_train[:, 0], X_train[:,1], c=Y_train, cmap=cm_bright, edgecolors='k')\n",
    "    # 再放测试集\n",
    "    ax.scatter(X_test[:, 0], X_test[:,1], c=Y_test, alpha=0.5, cmap=cm_bright, edgecolors='k')\n",
    "    # 设置边框\n",
    "    ax.set_xticks(())\n",
    "    ax.set_yticks(())\n",
    "    \n",
    "    ax.text(array1.max()-0.3, array2.min()+0.3, '%.1f'%(score*100), size=15, horizontalalignment='right')\n",
    "        \n",
    "    i += 1\n",
    " \n",
    "\n",
    "plt.tight_layout()\n",
    "plt.show()   \n",
    "    "
   ]
  },
  {
   "cell_type": "markdown",
   "id": "ac71cf1b-b77e-4f45-8a89-f4252e74084f",
   "metadata": {},
   "source": [
    "可以看出，决策树天生不适合处理环形数据，每个模型都有自己的决策上限，所以一个模型如何调参都无法提高表现是可能的。当一个模型怎么调整都不行的时候，我们可以选择换其他的模型使用。\n",
    "\n",
    "顺便说明，最擅长月亮型数据的是最近邻算法，RBF支持向量化和高斯过程；最擅长环形数据的似乎最近邻算法和高斯过程；最擅长对半分数据的朴素贝叶斯、随机森林和神经网络。"
   ]
  },
  {
   "cell_type": "code",
   "execution_count": null,
   "id": "4c059722-7cca-4461-a85f-5bafaae6ca89",
   "metadata": {},
   "outputs": [],
   "source": []
  }
 ],
 "metadata": {
  "kernelspec": {
   "display_name": "Python 3 (ipykernel)",
   "language": "python",
   "name": "python3"
  },
  "language_info": {
   "codemirror_mode": {
    "name": "ipython",
    "version": 3
   },
   "file_extension": ".py",
   "mimetype": "text/x-python",
   "name": "python",
   "nbconvert_exporter": "python",
   "pygments_lexer": "ipython3",
   "version": "3.8.8"
  }
 },
 "nbformat": 4,
 "nbformat_minor": 5
}
