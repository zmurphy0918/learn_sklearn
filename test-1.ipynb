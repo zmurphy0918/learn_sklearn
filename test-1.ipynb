{
 "cells": [
  {
   "cell_type": "code",
   "execution_count": 4,
   "id": "7f4c5dee",
   "metadata": {},
   "outputs": [
    {
     "name": "stdout",
     "output_type": "stream",
     "text": [
      "C:\\Users\\nk212\n"
     ]
    }
   ],
   "source": [
    "import os\n",
    "print(os.path.abspath(\".\"))"
   ]
  },
  {
   "cell_type": "code",
   "execution_count": 5,
   "id": "01ed50ff",
   "metadata": {},
   "outputs": [
    {
     "ename": "SyntaxError",
     "evalue": "invalid syntax (876701211.py, line 2)",
     "output_type": "error",
     "traceback": [
      "\u001b[1;36m  Input \u001b[1;32mIn [5]\u001b[1;36m\u001b[0m\n\u001b[1;33m    jupyter notebook --generate-config\u001b[0m\n\u001b[1;37m            ^\u001b[0m\n\u001b[1;31mSyntaxError\u001b[0m\u001b[1;31m:\u001b[0m invalid syntax\n"
     ]
    }
   ],
   "source": [
    "# 默认文件在c盘下，修改\n",
    "# 命令行下输入，jupyter notebook --generate-config\n",
    "# 找到对应文件后，修改notebook_dir"
   ]
  },
  {
   "cell_type": "code",
   "execution_count": 1,
   "id": "47a52090",
   "metadata": {},
   "outputs": [
    {
     "name": "stdout",
     "output_type": "stream",
     "text": [
      "hello world\n"
     ]
    }
   ],
   "source": [
    "print(\"hello world\")"
   ]
  },
  {
   "cell_type": "code",
   "execution_count": 9,
   "id": "e7b0d084",
   "metadata": {},
   "outputs": [],
   "source": [
    "# 绿色框为编辑，蓝色为命令行模式\n",
    "# shift+enter，运行当前行，跳到下一行\n",
    "# ctrl+enter，运行当前行，不跳到下一行"
   ]
  },
  {
   "cell_type": "code",
   "execution_count": null,
   "id": "2456be23",
   "metadata": {},
   "outputs": [],
   "source": [
    "# 编辑模式转命令行模式，命令行模式转编辑模式，通过选中来改变"
   ]
  },
  {
   "cell_type": "code",
   "execution_count": null,
   "id": "c4bb6707",
   "metadata": {},
   "outputs": [],
   "source": [
    "# 命令模式下，写好代码，按M键，shift+enter进入markdown模式，按Y变回代码单元格\n",
    "# 按H键，出现所有快捷键，\n",
    "# 按l 是给多行代码前面标行数"
   ]
  },
  {
   "cell_type": "code",
   "execution_count": null,
   "id": "534b223f",
   "metadata": {},
   "outputs": [],
   "source": []
  }
 ],
 "metadata": {
  "kernelspec": {
   "display_name": "Python 3 (ipykernel)",
   "language": "python",
   "name": "python3"
  },
  "language_info": {
   "codemirror_mode": {
    "name": "ipython",
    "version": 3
   },
   "file_extension": ".py",
   "mimetype": "text/x-python",
   "name": "python",
   "nbconvert_exporter": "python",
   "pygments_lexer": "ipython3",
   "version": "3.8.8"
  }
 },
 "nbformat": 4,
 "nbformat_minor": 5
}
