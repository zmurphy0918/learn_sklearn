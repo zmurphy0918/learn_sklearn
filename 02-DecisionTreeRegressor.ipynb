{
 "cells": [
  {
   "cell_type": "markdown",
   "id": "6341fbdc-7b4e-493c-a377-aa972829a309",
   "metadata": {},
   "source": [
    "几乎所有的参数、接口、属性都和回归树一样。需要注意的是在回归树中没有标签是否均衡的问题，因此没有class_weight这样的参数。"
   ]
  },
  {
   "cell_type": "markdown",
   "id": "c650bff3-3729-485b-b9bc-5b22bd297b5b",
   "metadata": {},
   "source": [
    "从分类变为回归问题，criterion的参数也改变：回归树一般用\n",
    "* MSE均方误差(父节点和子节点均方误差的差值作为特征选择的标准)，这种方法通过使用叶子节点的均值来最小化L2损失\n",
    "* friedman_mse费尔德曼MSE，这个指标使用弗里德曼针对潜在分支中的问题改进后的均方误差\n",
    "* MAE，这种指标使用叶子节点的中值来最小化L1损失"
   ]
  },
  {
   "cell_type": "markdown",
   "id": "e832e6f7-c994-4b04-998a-96ffe4e5b85b",
   "metadata": {},
   "source": [
    "在回归树中，MSE不仅是分支衡量指标，也是常用的衡量回归树回归质量的指标。然而，回归树接口的score返回的是R方，而不是MSE。\n",
    "* 为什么呢？因为使用均方误差作为衡量指标的情况下，很容易造成模型冗余和过拟合\n",
    "* R方返回的值范围是(-无穷, 1]，当结果为0时，相当于简单预测模型中所有值为均值，当结果为负，意味着模型比简单预测所有值为均值还要糟糕，而均方误差永远为正"
   ]
  },
  {
   "cell_type": "markdown",
   "id": "5a17dddd-3b97-424d-9249-982df83490d4",
   "metadata": {},
   "source": [
    "**交叉验证**"
   ]
  },
  {
   "cell_type": "code",
   "execution_count": 5,
   "id": "0ca56086-94e3-4b5a-b162-7546ede05eb1",
   "metadata": {},
   "outputs": [],
   "source": [
    "from sklearn.datasets import fetch_california_housing\n",
    "from sklearn.model_selection import cross_val_score\n",
    "from sklearn.tree import DecisionTreeRegressor"
   ]
  },
  {
   "cell_type": "code",
   "execution_count": 6,
   "id": "c43bb0fc-8c38-4ae0-938a-450a344b5d99",
   "metadata": {},
   "outputs": [
    {
     "data": {
      "text/plain": [
       "{'data': array([[   8.3252    ,   41.        ,    6.98412698, ...,    2.55555556,\n",
       "           37.88      , -122.23      ],\n",
       "        [   8.3014    ,   21.        ,    6.23813708, ...,    2.10984183,\n",
       "           37.86      , -122.22      ],\n",
       "        [   7.2574    ,   52.        ,    8.28813559, ...,    2.80225989,\n",
       "           37.85      , -122.24      ],\n",
       "        ...,\n",
       "        [   1.7       ,   17.        ,    5.20554273, ...,    2.3256351 ,\n",
       "           39.43      , -121.22      ],\n",
       "        [   1.8672    ,   18.        ,    5.32951289, ...,    2.12320917,\n",
       "           39.43      , -121.32      ],\n",
       "        [   2.3886    ,   16.        ,    5.25471698, ...,    2.61698113,\n",
       "           39.37      , -121.24      ]]),\n",
       " 'target': array([4.526, 3.585, 3.521, ..., 0.923, 0.847, 0.894]),\n",
       " 'frame': None,\n",
       " 'target_names': ['MedHouseVal'],\n",
       " 'feature_names': ['MedInc',\n",
       "  'HouseAge',\n",
       "  'AveRooms',\n",
       "  'AveBedrms',\n",
       "  'Population',\n",
       "  'AveOccup',\n",
       "  'Latitude',\n",
       "  'Longitude'],\n",
       " 'DESCR': '.. _california_housing_dataset:\\n\\nCalifornia Housing dataset\\n--------------------------\\n\\n**Data Set Characteristics:**\\n\\n    :Number of Instances: 20640\\n\\n    :Number of Attributes: 8 numeric, predictive attributes and the target\\n\\n    :Attribute Information:\\n        - MedInc        median income in block group\\n        - HouseAge      median house age in block group\\n        - AveRooms      average number of rooms per household\\n        - AveBedrms     average number of bedrooms per household\\n        - Population    block group population\\n        - AveOccup      average number of household members\\n        - Latitude      block group latitude\\n        - Longitude     block group longitude\\n\\n    :Missing Attribute Values: None\\n\\nThis dataset was obtained from the StatLib repository.\\nhttps://www.dcc.fc.up.pt/~ltorgo/Regression/cal_housing.html\\n\\nThe target variable is the median house value for California districts,\\nexpressed in hundreds of thousands of dollars ($100,000).\\n\\nThis dataset was derived from the 1990 U.S. census, using one row per census\\nblock group. A block group is the smallest geographical unit for which the U.S.\\nCensus Bureau publishes sample data (a block group typically has a population\\nof 600 to 3,000 people).\\n\\nAn household is a group of people residing within a home. Since the average\\nnumber of rooms and bedrooms in this dataset are provided per household, these\\ncolumns may take surpinsingly large values for block groups with few households\\nand many empty houses, such as vacation resorts.\\n\\nIt can be downloaded/loaded using the\\n:func:`sklearn.datasets.fetch_california_housing` function.\\n\\n.. topic:: References\\n\\n    - Pace, R. Kelley and Ronald Barry, Sparse Spatial Autoregressions,\\n      Statistics and Probability Letters, 33 (1997) 291-297\\n'}"
      ]
     },
     "execution_count": 6,
     "metadata": {},
     "output_type": "execute_result"
    }
   ],
   "source": [
    "housing = fetch_california_housing()\n",
    "housing"
   ]
  },
  {
   "cell_type": "code",
   "execution_count": 9,
   "id": "53be4959-d4d1-44b1-9fcb-263b60b7fbe6",
   "metadata": {},
   "outputs": [
    {
     "data": {
      "text/plain": [
       "array([-1.30551334, -0.78405711, -0.72809865, -0.50413232, -0.79683323,\n",
       "       -0.83698199, -0.56591889, -1.03621067, -1.02786488, -0.51371889])"
      ]
     },
     "execution_count": 9,
     "metadata": {},
     "output_type": "execute_result"
    }
   ],
   "source": [
    "housing = fetch_california_housing()\n",
    "regressor = DecisionTreeRegressor(random_state=0)\n",
    "cross_val_score(regressor, housing.data, housing.target, cv=10\n",
    "                ,scoring='neg_mean_squared_error'\n",
    "               )\n",
    "# 返回每次交叉计算的结果"
   ]
  },
  {
   "cell_type": "markdown",
   "id": "510d96bf-dcd7-4dc7-8393-cee88992373f",
   "metadata": {},
   "source": [
    "默认情况下，scoring默认返回的是R方，可以指定使用MSE"
   ]
  },
  {
   "cell_type": "markdown",
   "id": "909df630-a162-47ae-a455-d9d92935fb73",
   "metadata": {},
   "source": [
    "**实例：一维回归曲线**"
   ]
  },
  {
   "cell_type": "code",
   "execution_count": 10,
   "id": "046b0798-34fb-463f-b5c4-2a0bc688ba08",
   "metadata": {},
   "outputs": [],
   "source": [
    "import numpy as np\n",
    "from sklearn.tree import DecisionTreeRegressor\n",
    "import matplotlib.pyplot as plt"
   ]
  },
  {
   "cell_type": "markdown",
   "id": "02a34fab-7de0-4a1b-8280-4ac4711cf3db",
   "metadata": {},
   "source": [
    "+ **先创建一条需要回归的曲线**"
   ]
  },
  {
   "cell_type": "code",
   "execution_count": 18,
   "id": "2a4517d4-53b8-4e2c-9b9b-c00d7704f8ad",
   "metadata": {},
   "outputs": [],
   "source": [
    "rng= np.random.RandomState(1)  # 随机数种子\n",
    "X = np.sort(5 * rng.rand(80,1), axis=0)  # 由于sklearn的各种模型不接受一维的数据作为输入，所以这里生成为这种形式\n",
    "y = np.sin(X).ravel()  # 生成正弦曲线，y压缩"
   ]
  },
  {
   "cell_type": "code",
   "execution_count": 21,
   "id": "9cf39e51-c8d8-41de-9315-f74dfa4e1c56",
   "metadata": {},
   "outputs": [],
   "source": [
    "y[::5] += 3 * (0.5 - rng.rand(16))  # 添加扰动"
   ]
  },
  {
   "cell_type": "code",
   "execution_count": 31,
   "id": "18be87bc-1f81-46ba-a5db-ad569e54a3ca",
   "metadata": {},
   "outputs": [
    {
     "data": {
      "image/png": "[encoded data removed]",
      "text/plain": [
       "<Figure size 720x432 with 1 Axes>"
      ]
     },
     "metadata": {
      "needs_background": "light"
     },
     "output_type": "display_data"
    }
   ],
   "source": [
    "fig, ax = plt.subplots(figsize=(10,6))\n",
    "\n",
    "ax.scatter(X, y, s=20, c='#ff7f0e', edgecolors='black')\n",
    "\n",
    "plt.show()"
   ]
  },
  {
   "cell_type": "markdown",
   "id": "25d1e059-a1e0-4d15-b748-5a97eac48dc4",
   "metadata": {},
   "source": [
    "+ **实例化以及训练模型**"
   ]
  },
  {
   "cell_type": "markdown",
   "id": "282c7922-fa78-4c9d-897d-683709a8c230",
   "metadata": {},
   "source": [
    "建立两个模型了解在不同的模型下，回归树如何表现"
   ]
  },
  {
   "cell_type": "code",
   "execution_count": 33,
   "id": "4cbb4c43-3c8d-4e37-95a1-5f598e6362d2",
   "metadata": {},
   "outputs": [
    {
     "data": {
      "text/plain": [
       "DecisionTreeRegressor(max_depth=5)"
      ]
     },
     "execution_count": 33,
     "metadata": {},
     "output_type": "execute_result"
    }
   ],
   "source": [
    "regr_1 = DecisionTreeRegressor(max_depth=2)\n",
    "regr_2 = DecisionTreeRegressor(max_depth=5)\n",
    "regr_1.fit(X, y)\n",
    "regr_2.fit(X, y)"
   ]
  },
  {
   "cell_type": "markdown",
   "id": "e5e5d1a8-4bc3-421d-add4-580ae93badac",
   "metadata": {},
   "source": [
    "+ **导入测试集**"
   ]
  },
  {
   "cell_type": "code",
   "execution_count": 41,
   "id": "754968fe-b19b-4cb1-8654-ebe5f4cf4b1f",
   "metadata": {},
   "outputs": [],
   "source": [
    "X_test = np.arange(0, 5, 0.01)[:, np.newaxis]"
   ]
  },
  {
   "cell_type": "code",
   "execution_count": 35,
   "id": "bcf4bde7-2ad7-499c-a605-7a6116a322cd",
   "metadata": {},
   "outputs": [
    {
     "data": {
      "text/plain": [
       "array([1, 2, 3, 4])"
      ]
     },
     "execution_count": 35,
     "metadata": {},
     "output_type": "execute_result"
    }
   ],
   "source": [
    "# 了解一下np.newaxis功能，用于增维\n",
    "l = np.array([1,2,3,4])\n",
    "l\n",
    "l.shape\n",
    "l[:, np.newaxis]\n",
    "l[:, np.newaxis].shape\n",
    "l[np.newaxis,:].shape"
   ]
  },
  {
   "cell_type": "code",
   "execution_count": 42,
   "id": "9e6915d8-fe0e-40a3-aa7d-0d25e818f5c8",
   "metadata": {},
   "outputs": [],
   "source": [
    "y_1 = regr_1.predict(X_test)\n",
    "y_2 = regr_2.predict(X_test)"
   ]
  },
  {
   "cell_type": "code",
   "execution_count": 48,
   "id": "246cd025-2620-4942-ab5e-022b7ad9d75d",
   "metadata": {},
   "outputs": [
    {
     "data": {
      "image/png": "[encoded data removed]",
      "text/plain": [
       "<Figure size 720x432 with 1 Axes>"
      ]
     },
     "metadata": {
      "needs_background": "light"
     },
     "output_type": "display_data"
    }
   ],
   "source": [
    "fig, ax = plt.subplots(figsize=(10,6))\n",
    "\n",
    "ax.scatter(X, y, s=20, c='#ff7f0e', edgecolors='black')\n",
    "ax.plot(X_test, y_1, c='red', label='depth=2', linewidth=2)\n",
    "ax.plot(X_test, y_2, c='yellowgreen', label='depth=5', linewidth=2)\n",
    "axx.set_title('Decision Tree Regreesor')\n",
    "              \n",
    "plt.legend()\n",
    "plt.show()"
   ]
  },
  {
   "cell_type": "code",
   "execution_count": 38,
   "id": "351aad41-abb5-48e5-9895-a3d1b4e9c926",
   "metadata": {},
   "outputs": [
    {
     "data": {
      "text/plain": [
       "(4, 1)"
      ]
     },
     "execution_count": 38,
     "metadata": {},
     "output_type": "execute_result"
    }
   ],
   "source": []
  },
  {
   "cell_type": "code",
   "execution_count": 40,
   "id": "07a39f0e-2a47-4799-8457-dc69b346637f",
   "metadata": {},
   "outputs": [
    {
     "data": {
      "text/plain": [
       "(1, 4)"
      ]
     },
     "execution_count": 40,
     "metadata": {},
     "output_type": "execute_result"
    }
   ],
   "source": []
  },
  {
   "cell_type": "code",
   "execution_count": null,
   "id": "d69753c5-95e0-4534-8d56-df74b813e073",
   "metadata": {},
   "outputs": [],
   "source": []
  }
 ],
 "metadata": {
  "kernelspec": {
   "display_name": "Python 3 (ipykernel)",
   "language": "python",
   "name": "python3"
  },
  "language_info": {
   "codemirror_mode": {
    "name": "ipython",
    "version": 3
   },
   "file_extension": ".py",
   "mimetype": "text/x-python",
   "name": "python",
   "nbconvert_exporter": "python",
   "pygments_lexer": "ipython3",
   "version": "3.8.8"
  },
  "toc-autonumbering": true,
  "toc-showcode": true,
  "toc-showmarkdowntxt": true
 },
 "nbformat": 4,
 "nbformat_minor": 5
}
