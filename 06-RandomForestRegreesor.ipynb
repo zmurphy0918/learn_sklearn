{
 "cells": [
  {
   "cell_type": "markdown",
   "id": "46631139-68a7-4ab0-a821-ebda28ec2327",
   "metadata": {},
   "source": [
    "# 随机森林实例"
   ]
  },
  {
   "cell_type": "markdown",
   "id": "10f21a7e-1ea5-4a6b-bf00-57d40f09b582",
   "metadata": {},
   "source": [
    "## 1. 填补缺失值"
   ]
  },
  {
   "cell_type": "code",
   "execution_count": 2,
   "id": "322c6069-fd16-45a1-aee5-5d79657519d2",
   "metadata": {},
   "outputs": [],
   "source": [
    "import numpy as np\n",
    "import pandas as pd\n",
    "import matplotlib.pyplot as plt\n",
    "from sklearn.datasets import fetch_california_housing\n",
    "from sklearn.impute import SimpleImputer\n",
    "from sklearn.ensemble import RandomForestRegressor\n",
    "# from sklearn.model_selection import cross_val_score"
   ]
  },
  {
   "cell_type": "code",
   "execution_count": 3,
   "id": "3cec515f-443e-487e-beaa-4aad286f61d1",
   "metadata": {},
   "outputs": [],
   "source": [
    "housing = fetch_california_housing()"
   ]
  },
  {
   "cell_type": "code",
   "execution_count": 8,
   "id": "dec87ce2-0ebf-425c-879e-9946312daff3",
   "metadata": {},
   "outputs": [
    {
     "data": {
      "text/plain": [
       "(20640, 8)"
      ]
     },
     "execution_count": 8,
     "metadata": {},
     "output_type": "execute_result"
    }
   ],
   "source": [
    "housing.target\n",
    "housing.data.shape"
   ]
  },
  {
   "cell_type": "code",
   "execution_count": 6,
   "id": "c381960f-6053-4da2-8dd9-aa75d66b537d",
   "metadata": {},
   "outputs": [],
   "source": [
    "from sklearn.datasets import load_boston"
   ]
  },
  {
   "cell_type": "code",
   "execution_count": 7,
   "id": "d573fe9c-e729-44ba-a2d7-03b244f318ff",
   "metadata": {},
   "outputs": [
    {
     "name": "stderr",
     "output_type": "stream",
     "text": [
      "c:\\myprogram\\python\\lib\\site-packages\\sklearn\\utils\\deprecation.py:87: FutureWarning: Function load_boston is deprecated; `load_boston` is deprecated in 1.0 and will be removed in 1.2.\n",
      "\n",
      "    The Boston housing prices dataset has an ethical problem. You can refer to\n",
      "    the documentation of this function for further details.\n",
      "\n",
      "    The scikit-learn maintainers therefore strongly discourage the use of this\n",
      "    dataset unless the purpose of the code is to study and educate about\n",
      "    ethical issues in data science and machine learning.\n",
      "\n",
      "    In this special case, you can fetch the dataset from the original\n",
      "    source::\n",
      "\n",
      "        import pandas as pd\n",
      "        import numpy as np\n",
      "\n",
      "\n",
      "        data_url = \"http://lib.stat.cmu.edu/datasets/boston\"\n",
      "        raw_df = pd.read_csv(data_url, sep=\"\\s+\", skiprows=22, header=None)\n",
      "        data = np.hstack([raw_df.values[::2, :], raw_df.values[1::2, :2]])\n",
      "        target = raw_df.values[1::2, 2]\n",
      "\n",
      "    Alternative datasets include the California housing dataset (i.e.\n",
      "    :func:`~sklearn.datasets.fetch_california_housing`) and the Ames housing\n",
      "    dataset. You can load the datasets as follows::\n",
      "\n",
      "        from sklearn.datasets import fetch_california_housing\n",
      "        housing = fetch_california_housing()\n",
      "\n",
      "    for the California housing dataset and::\n",
      "\n",
      "        from sklearn.datasets import fetch_openml\n",
      "        housing = fetch_openml(name=\"house_prices\", as_frame=True)\n",
      "\n",
      "    for the Ames housing dataset.\n",
      "    \n",
      "  warnings.warn(msg, category=FutureWarning)\n"
     ]
    }
   ],
   "source": [
    "boston = load_boston()"
   ]
  },
  {
   "cell_type": "code",
   "execution_count": 9,
   "id": "f1088d59-4c5b-4963-8e35-1aa8ab722441",
   "metadata": {},
   "outputs": [
    {
     "data": {
      "text/plain": [
       "(506, 13)"
      ]
     },
     "execution_count": 9,
     "metadata": {},
     "output_type": "execute_result"
    }
   ],
   "source": [
    "boston.data.shape"
   ]
  },
  {
   "cell_type": "markdown",
   "id": "832ad269-5c3f-46d6-8084-4db19f811326",
   "metadata": {},
   "source": [
    "**构造缺失数据**"
   ]
  },
  {
   "cell_type": "code",
   "execution_count": 10,
   "id": "d70db796-35a2-49d2-98d9-240e1e778f9b",
   "metadata": {},
   "outputs": [],
   "source": [
    "x_full, y_full = boston.data, boston.target"
   ]
  },
  {
   "cell_type": "code",
   "execution_count": 11,
   "id": "bfbc062d-a251-473e-ae36-e471aa8effee",
   "metadata": {},
   "outputs": [],
   "source": [
    "n_samples = boston.data.shape[0]\n",
    "n_features = boston.data.shape[1]"
   ]
  },
  {
   "cell_type": "code",
   "execution_count": 12,
   "id": "337cedb4-bb24-4417-b087-53d48be89948",
   "metadata": {},
   "outputs": [],
   "source": [
    "rng = np.random.RandomState(0)\n",
    "missing_rate = 0.5\n",
    "n_missing_samples = int(np.floor(n_samples * n_features * missing_rate))"
   ]
  },
  {
   "cell_type": "code",
   "execution_count": 13,
   "id": "25aaffdb-789f-452f-868c-0154027dfa73",
   "metadata": {},
   "outputs": [],
   "source": [
    "missing_features = rng.randint(0, n_features, n_missing_samples)\n",
    "missing_samples = rng.randint(0, n_samples, n_missing_samples)"
   ]
  },
  {
   "cell_type": "code",
   "execution_count": 15,
   "id": "d53e8dea-ce67-46ea-a200-b2337dcd891f",
   "metadata": {},
   "outputs": [
    {
     "data": {
      "text/plain": [
       "(3289,)"
      ]
     },
     "execution_count": 15,
     "metadata": {},
     "output_type": "execute_result"
    }
   ],
   "source": [
    "missing_features.shape"
   ]
  },
  {
   "cell_type": "code",
   "execution_count": 16,
   "id": "1306cb81-f2ba-4ce0-bd97-4aeae7b07c8c",
   "metadata": {},
   "outputs": [],
   "source": [
    "x_missing = x_full.copy()\n",
    "y_missing = y_full.copy()\n",
    "x_missing[missing_samples, missing_features] = np.nan"
   ]
  },
  {
   "cell_type": "code",
   "execution_count": 17,
   "id": "f92eedb3-4d04-459f-adc7-2ae79b3551b9",
   "metadata": {},
   "outputs": [
    {
     "data": {
      "text/plain": [
       "array([[       nan, 1.8000e+01,        nan, ...,        nan,        nan,\n",
       "        4.9800e+00],\n",
       "       [2.7310e-02, 0.0000e+00,        nan, ...,        nan, 3.9690e+02,\n",
       "        9.1400e+00],\n",
       "       [2.7290e-02,        nan, 7.0700e+00, ...,        nan,        nan,\n",
       "               nan],\n",
       "       ...,\n",
       "       [       nan,        nan, 1.1930e+01, ..., 2.1000e+01,        nan,\n",
       "        5.6400e+00],\n",
       "       [1.0959e-01, 0.0000e+00, 1.1930e+01, ..., 2.1000e+01, 3.9345e+02,\n",
       "        6.4800e+00],\n",
       "       [4.7410e-02, 0.0000e+00, 1.1930e+01, ...,        nan, 3.9690e+02,\n",
       "        7.8800e+00]])"
      ]
     },
     "execution_count": 17,
     "metadata": {},
     "output_type": "execute_result"
    }
   ],
   "source": [
    "x_missing"
   ]
  },
  {
   "cell_type": "code",
   "execution_count": 18,
   "id": "bbdfdbc1-b36e-4af8-b682-d21300d8d5e6",
   "metadata": {},
   "outputs": [],
   "source": [
    "x_missing = pd.DataFrame(x_missing)"
   ]
  },
  {
   "cell_type": "code",
   "execution_count": 19,
   "id": "f246e1c4-4721-436d-9eb6-639bed29a361",
   "metadata": {},
   "outputs": [
    {
     "data": {
      "text/html": [
       "<div>\n",
       "<style scoped>\n",
       "    .dataframe tbody tr th:only-of-type {\n",
       "        vertical-align: middle;\n",
       "    }\n",
       "\n",
       "    .dataframe tbody tr th {\n",
       "        vertical-align: top;\n",
       "    }\n",
       "\n",
       "    .dataframe thead th {\n",
       "        text-align: right;\n",
       "    }\n",
       "</style>\n",
       "<table border=\"1\" class=\"dataframe\">\n",
       "  <thead>\n",
       "    <tr style=\"text-align: right;\">\n",
       "      <th></th>\n",
       "      <th>0</th>\n",
       "      <th>1</th>\n",
       "      <th>2</th>\n",
       "      <th>3</th>\n",
       "      <th>4</th>\n",
       "      <th>5</th>\n",
       "      <th>6</th>\n",
       "      <th>7</th>\n",
       "      <th>8</th>\n",
       "      <th>9</th>\n",
       "      <th>10</th>\n",
       "      <th>11</th>\n",
       "      <th>12</th>\n",
       "    </tr>\n",
       "  </thead>\n",
       "  <tbody>\n",
       "    <tr>\n",
       "      <th>0</th>\n",
       "      <td>NaN</td>\n",
       "      <td>18.0</td>\n",
       "      <td>NaN</td>\n",
       "      <td>NaN</td>\n",
       "      <td>0.538</td>\n",
       "      <td>NaN</td>\n",
       "      <td>65.2</td>\n",
       "      <td>4.0900</td>\n",
       "      <td>1.0</td>\n",
       "      <td>296.0</td>\n",
       "      <td>NaN</td>\n",
       "      <td>NaN</td>\n",
       "      <td>4.98</td>\n",
       "    </tr>\n",
       "    <tr>\n",
       "      <th>1</th>\n",
       "      <td>0.02731</td>\n",
       "      <td>0.0</td>\n",
       "      <td>NaN</td>\n",
       "      <td>0.0</td>\n",
       "      <td>0.469</td>\n",
       "      <td>NaN</td>\n",
       "      <td>78.9</td>\n",
       "      <td>4.9671</td>\n",
       "      <td>2.0</td>\n",
       "      <td>NaN</td>\n",
       "      <td>NaN</td>\n",
       "      <td>396.90</td>\n",
       "      <td>9.14</td>\n",
       "    </tr>\n",
       "    <tr>\n",
       "      <th>2</th>\n",
       "      <td>0.02729</td>\n",
       "      <td>NaN</td>\n",
       "      <td>7.07</td>\n",
       "      <td>0.0</td>\n",
       "      <td>NaN</td>\n",
       "      <td>7.185</td>\n",
       "      <td>61.1</td>\n",
       "      <td>NaN</td>\n",
       "      <td>2.0</td>\n",
       "      <td>242.0</td>\n",
       "      <td>NaN</td>\n",
       "      <td>NaN</td>\n",
       "      <td>NaN</td>\n",
       "    </tr>\n",
       "    <tr>\n",
       "      <th>3</th>\n",
       "      <td>NaN</td>\n",
       "      <td>NaN</td>\n",
       "      <td>NaN</td>\n",
       "      <td>0.0</td>\n",
       "      <td>0.458</td>\n",
       "      <td>NaN</td>\n",
       "      <td>45.8</td>\n",
       "      <td>NaN</td>\n",
       "      <td>NaN</td>\n",
       "      <td>222.0</td>\n",
       "      <td>18.7</td>\n",
       "      <td>NaN</td>\n",
       "      <td>NaN</td>\n",
       "    </tr>\n",
       "    <tr>\n",
       "      <th>4</th>\n",
       "      <td>NaN</td>\n",
       "      <td>0.0</td>\n",
       "      <td>2.18</td>\n",
       "      <td>0.0</td>\n",
       "      <td>NaN</td>\n",
       "      <td>7.147</td>\n",
       "      <td>NaN</td>\n",
       "      <td>NaN</td>\n",
       "      <td>NaN</td>\n",
       "      <td>NaN</td>\n",
       "      <td>18.7</td>\n",
       "      <td>NaN</td>\n",
       "      <td>5.33</td>\n",
       "    </tr>\n",
       "    <tr>\n",
       "      <th>...</th>\n",
       "      <td>...</td>\n",
       "      <td>...</td>\n",
       "      <td>...</td>\n",
       "      <td>...</td>\n",
       "      <td>...</td>\n",
       "      <td>...</td>\n",
       "      <td>...</td>\n",
       "      <td>...</td>\n",
       "      <td>...</td>\n",
       "      <td>...</td>\n",
       "      <td>...</td>\n",
       "      <td>...</td>\n",
       "      <td>...</td>\n",
       "    </tr>\n",
       "    <tr>\n",
       "      <th>501</th>\n",
       "      <td>NaN</td>\n",
       "      <td>NaN</td>\n",
       "      <td>NaN</td>\n",
       "      <td>0.0</td>\n",
       "      <td>0.573</td>\n",
       "      <td>NaN</td>\n",
       "      <td>69.1</td>\n",
       "      <td>NaN</td>\n",
       "      <td>1.0</td>\n",
       "      <td>NaN</td>\n",
       "      <td>21.0</td>\n",
       "      <td>NaN</td>\n",
       "      <td>9.67</td>\n",
       "    </tr>\n",
       "    <tr>\n",
       "      <th>502</th>\n",
       "      <td>0.04527</td>\n",
       "      <td>0.0</td>\n",
       "      <td>11.93</td>\n",
       "      <td>0.0</td>\n",
       "      <td>0.573</td>\n",
       "      <td>6.120</td>\n",
       "      <td>76.7</td>\n",
       "      <td>2.2875</td>\n",
       "      <td>1.0</td>\n",
       "      <td>273.0</td>\n",
       "      <td>NaN</td>\n",
       "      <td>396.90</td>\n",
       "      <td>9.08</td>\n",
       "    </tr>\n",
       "    <tr>\n",
       "      <th>503</th>\n",
       "      <td>NaN</td>\n",
       "      <td>NaN</td>\n",
       "      <td>11.93</td>\n",
       "      <td>NaN</td>\n",
       "      <td>0.573</td>\n",
       "      <td>6.976</td>\n",
       "      <td>91.0</td>\n",
       "      <td>NaN</td>\n",
       "      <td>NaN</td>\n",
       "      <td>NaN</td>\n",
       "      <td>21.0</td>\n",
       "      <td>NaN</td>\n",
       "      <td>5.64</td>\n",
       "    </tr>\n",
       "    <tr>\n",
       "      <th>504</th>\n",
       "      <td>0.10959</td>\n",
       "      <td>0.0</td>\n",
       "      <td>11.93</td>\n",
       "      <td>NaN</td>\n",
       "      <td>0.573</td>\n",
       "      <td>NaN</td>\n",
       "      <td>89.3</td>\n",
       "      <td>NaN</td>\n",
       "      <td>1.0</td>\n",
       "      <td>NaN</td>\n",
       "      <td>21.0</td>\n",
       "      <td>393.45</td>\n",
       "      <td>6.48</td>\n",
       "    </tr>\n",
       "    <tr>\n",
       "      <th>505</th>\n",
       "      <td>0.04741</td>\n",
       "      <td>0.0</td>\n",
       "      <td>11.93</td>\n",
       "      <td>0.0</td>\n",
       "      <td>0.573</td>\n",
       "      <td>6.030</td>\n",
       "      <td>NaN</td>\n",
       "      <td>NaN</td>\n",
       "      <td>1.0</td>\n",
       "      <td>NaN</td>\n",
       "      <td>NaN</td>\n",
       "      <td>396.90</td>\n",
       "      <td>7.88</td>\n",
       "    </tr>\n",
       "  </tbody>\n",
       "</table>\n",
       "<p>506 rows × 13 columns</p>\n",
       "</div>"
      ],
      "text/plain": [
       "          0     1      2    3      4      5     6       7    8      9     10  \\\n",
       "0        NaN  18.0    NaN  NaN  0.538    NaN  65.2  4.0900  1.0  296.0   NaN   \n",
       "1    0.02731   0.0    NaN  0.0  0.469    NaN  78.9  4.9671  2.0    NaN   NaN   \n",
       "2    0.02729   NaN   7.07  0.0    NaN  7.185  61.1     NaN  2.0  242.0   NaN   \n",
       "3        NaN   NaN    NaN  0.0  0.458    NaN  45.8     NaN  NaN  222.0  18.7   \n",
       "4        NaN   0.0   2.18  0.0    NaN  7.147   NaN     NaN  NaN    NaN  18.7   \n",
       "..       ...   ...    ...  ...    ...    ...   ...     ...  ...    ...   ...   \n",
       "501      NaN   NaN    NaN  0.0  0.573    NaN  69.1     NaN  1.0    NaN  21.0   \n",
       "502  0.04527   0.0  11.93  0.0  0.573  6.120  76.7  2.2875  1.0  273.0   NaN   \n",
       "503      NaN   NaN  11.93  NaN  0.573  6.976  91.0     NaN  NaN    NaN  21.0   \n",
       "504  0.10959   0.0  11.93  NaN  0.573    NaN  89.3     NaN  1.0    NaN  21.0   \n",
       "505  0.04741   0.0  11.93  0.0  0.573  6.030   NaN     NaN  1.0    NaN   NaN   \n",
       "\n",
       "         11    12  \n",
       "0       NaN  4.98  \n",
       "1    396.90  9.14  \n",
       "2       NaN   NaN  \n",
       "3       NaN   NaN  \n",
       "4       NaN  5.33  \n",
       "..      ...   ...  \n",
       "501     NaN  9.67  \n",
       "502  396.90  9.08  \n",
       "503     NaN  5.64  \n",
       "504  393.45  6.48  \n",
       "505  396.90  7.88  \n",
       "\n",
       "[506 rows x 13 columns]"
      ]
     },
     "execution_count": 19,
     "metadata": {},
     "output_type": "execute_result"
    }
   ],
   "source": [
    "x_missing"
   ]
  },
  {
   "cell_type": "markdown",
   "id": "7b05d2f4-5199-43c4-95dd-315d9dddfc59",
   "metadata": {},
   "source": [
    "**利用固定值和均值填补缺失值**"
   ]
  },
  {
   "cell_type": "code",
   "execution_count": 23,
   "id": "4173835b-18cb-4e1c-88bc-237a9fd2bd6c",
   "metadata": {},
   "outputs": [],
   "source": [
    "# 利用均值进行填补\n",
    "imp_mean = SimpleImputer(missing_values=np.nan, strategy='mean')\n",
    "x_missing_mean = imp_mean.fit_transform(x_missing)\n",
    "\n",
    "# 利用0进行填补\n",
    "imp_0 = SimpleImputer(missing_values=np.nan, strategy='constant', fill_value=0)\n",
    "x_missing_0 = imp_0.fit_transform(x_missing)"
   ]
  },
  {
   "cell_type": "code",
   "execution_count": 25,
   "id": "e72ec7e1-a157-4382-a6a5-bf27737aa2a8",
   "metadata": {},
   "outputs": [
    {
     "data": {
      "text/plain": [
       "0     0\n",
       "1     0\n",
       "2     0\n",
       "3     0\n",
       "4     0\n",
       "5     0\n",
       "6     0\n",
       "7     0\n",
       "8     0\n",
       "9     0\n",
       "10    0\n",
       "11    0\n",
       "12    0\n",
       "dtype: int64"
      ]
     },
     "execution_count": 25,
     "metadata": {},
     "output_type": "execute_result"
    }
   ],
   "source": [
    "pd.DataFrame(x_missing_mean).isnull().sum()"
   ]
  },
  {
   "cell_type": "markdown",
   "id": "743bd35b-e8c8-4d00-aa40-81310ac4490f",
   "metadata": {},
   "source": [
    "**利用随机森林填补缺失值**"
   ]
  },
  {
   "cell_type": "markdown",
   "id": "8d4cb9e2-9fbc-4b0b-8c50-fb3c33882771",
   "metadata": {},
   "source": [
    "通常情况下，不会采用算法来填补缺失值，但是在用固定值、均值填充都不合适的情况下，可以考虑用算法进行填充"
   ]
  },
  {
   "cell_type": "markdown",
   "id": "73bc1ecc-fc8e-41eb-9f5e-4cf0f87cd907",
   "metadata": {},
   "source": [
    "对于一个有n个特征的数据来说，其中**一列特征T有缺失**，可以将其他n-1个特征和目标值作为新的特征，将特征T作为我们预测的目标。其中特征T中无缺失的部分作为y_train, 有缺失的部分作为y_test,是我们需要预测的部分"
   ]
  },
  {
   "cell_type": "markdown",
   "id": "606f90ec-15f8-4dd9-bcfc-bf94d7802339",
   "metadata": {},
   "source": [
    "自然地我们会想到如果不止一个特征值有缺失，有**多个特征值列都有缺失的情况**呢？"
   ]
  },
  {
   "cell_type": "markdown",
   "id": "cf80926e-7c38-48e1-80af-fd22f66202ae",
   "metadata": {
    "tags": []
   },
   "source": [
    "答案是遍历所有的特征，先从缺失最少的开始进行填补(因为填补这一列需要的准确信息最少)。\n",
    "在填补某一列时，先将其他列中的缺失值用0代替，每次回归得到该列的结果后，再将该列放回原本的特征矩阵中，在继续填充下一个特征。每次填补完毕，有缺失值的特征就会减少一个，所以需要用0填补的特征会越来越少。"
   ]
  },
  {
   "cell_type": "code",
   "execution_count": 35,
   "id": "305cf87f-94d3-4433-a615-0b7fb6112ee6",
   "metadata": {},
   "outputs": [],
   "source": [
    "x_missing_reg = x_missing.copy()\n",
    "sortindex = np.argsort(x_missing_reg.isnull().sum(axis=0)).values  # 依次返回值所在位置的索引\n",
    "for i in sortindex:\n",
    "    \n",
    "    # 构建新的特征和新的目标列\n",
    "    df = x_missing_reg\n",
    "    fillc = df.iloc[:, i]\n",
    "    df = pd.concat([df.iloc[:, df.columns!=i], pd.DataFrame(y_full)], axis=1)\n",
    "    \n",
    "    # 新特征矩阵中，缺失值用0填充\n",
    "    df_0 = SimpleImputer(missing_values=np.nan, strategy='constant', fill_value=0)\n",
    "    df_0 = df_0.fit_transform(df)\n",
    "    \n",
    "    # 找出训练集和测试集\n",
    "    y_train = fillc[fillc.notnull()]\n",
    "    y_test = fillc[fillc.isnull()]\n",
    "    x_train = df_0[y_train.index, :]\n",
    "    x_test = df_0[y_test.index, :]\n",
    "    \n",
    "    # 用随机森林填充缺失值\n",
    "    rfc = RandomForestRegressor(n_estimators=100)\n",
    "    rfc = rfc.fit(x_train, y_train)\n",
    "    y_predict = rfc.predict(x_test)\n",
    "    \n",
    "    # 将填补好的特征返回到原始的特征矩阵中\n",
    "    x_missing_reg.iloc[y_test.index, i] = y_predict\n",
    "    "
   ]
  },
  {
   "cell_type": "code",
   "execution_count": 36,
   "id": "d51f308a-f582-485f-87f7-29e7837ad1c6",
   "metadata": {},
   "outputs": [
    {
     "data": {
      "text/plain": [
       "0     0\n",
       "1     0\n",
       "2     0\n",
       "3     0\n",
       "4     0\n",
       "5     0\n",
       "6     0\n",
       "7     0\n",
       "8     0\n",
       "9     0\n",
       "10    0\n",
       "11    0\n",
       "12    0\n",
       "dtype: int64"
      ]
     },
     "execution_count": 36,
     "metadata": {},
     "output_type": "execute_result"
    }
   ],
   "source": [
    "x_missing_reg.isnull().sum()"
   ]
  },
  {
   "cell_type": "markdown",
   "id": "55314d7e-347f-47bf-864c-2ec96a80e129",
   "metadata": {},
   "source": [
    "**对填补好的数据进行建模**"
   ]
  },
  {
   "cell_type": "code",
   "execution_count": 37,
   "id": "f1da4657-27cb-4ee5-accd-46c87ec155b5",
   "metadata": {},
   "outputs": [],
   "source": [
    "X = [x_full, x_missing_mean, x_missing_0, x_missing_reg]\n",
    "\n",
    "mse = []\n",
    "for x in X:\n",
    "    estimator = RandomForestRegressor(n_estimators=100)\n",
    "    scores = cross_val_score(estimator, x, y_full, scoring='neg_mean_squared_error', cv=5).mean()\n",
    "    mse.append(scores*-1)\n"
   ]
  },
  {
   "cell_type": "code",
   "execution_count": 39,
   "id": "b54f5abf-3e31-4bed-bbf6-52698fa20e66",
   "metadata": {},
   "outputs": [
    {
     "data": {
      "text/plain": [
       "[('x_full', 20.96150636192971),\n",
       " ('x_missing_mean', 40.84506547629584),\n",
       " ('x_missing_0', 48.24120658980779),\n",
       " ('x_missing_reg', 18.362818797185)]"
      ]
     },
     "execution_count": 39,
     "metadata": {},
     "output_type": "execute_result"
    }
   ],
   "source": [
    "[*zip(['x_full', 'x_missing_mean', 'x_missing_0', 'x_missing_reg'], mse)]"
   ]
  },
  {
   "cell_type": "markdown",
   "id": "b0d35f33-0655-4c44-ac39-5afee659584b",
   "metadata": {},
   "source": [
    "**所得结果画出图形**"
   ]
  },
  {
   "cell_type": "code",
   "execution_count": 47,
   "id": "b8485df2-3229-4b37-b579-1fb6bd0cf80b",
   "metadata": {},
   "outputs": [
    {
     "data": {
      "image/png": "[encoded data removed]",
      "text/plain": [
       "<Figure size 864x432 with 1 Axes>"
      ]
     },
     "metadata": {
      "needs_background": "light"
     },
     "output_type": "display_data"
    }
   ],
   "source": [
    "labels = ['x_full', 'x_missing_mean', 'x_missing_0', 'x_missing_reg']\n",
    "colors = ['red', 'green', 'blue', 'orange']\n",
    "\n",
    "plt.figure(figsize=(12, 6))\n",
    "ax = plt.subplot(111)\n",
    "\n",
    "for i in range(len(mse)):\n",
    "    plt.barh(i, mse[i], alpha=0.6, align='center')\n",
    "ax.set_title('imputation techique with boston data')\n",
    "ax.set_xlim(left=0.9*min(mse), right=1.1*max(mse))\n",
    "ax.set_xlabel('MSE')\n",
    "ax.set_yticks(np.arange(len(mse)))\n",
    "ax.set_yticklabels(labels)\n",
    "\n",
    "plt.show()"
   ]
  },
  {
   "cell_type": "code",
   "execution_count": null,
   "id": "789cf1e2-d436-4d3c-b82a-e7c862623d9f",
   "metadata": {},
   "outputs": [],
   "source": []
  }
 ],
 "metadata": {
  "kernelspec": {
   "display_name": "Python 3 (ipykernel)",
   "language": "python",
   "name": "python3"
  },
  "language_info": {
   "codemirror_mode": {
    "name": "ipython",
    "version": 3
   },
   "file_extension": ".py",
   "mimetype": "text/x-python",
   "name": "python",
   "nbconvert_exporter": "python",
   "pygments_lexer": "ipython3",
   "version": "3.8.8"
  }
 },
 "nbformat": 4,
 "nbformat_minor": 5
}
